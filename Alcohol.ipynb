{
 "cells": [
  {
   "cell_type": "markdown",
   "id": "8f430922",
   "metadata": {},
   "source": [
    "<center> <img SRC=\"alcohol.jpg\" aling=\"center\"/> </center>\n",
    "\n",
    "<center> <h1 sytle=\"color:#F7DC6F\">Analisis sobre consumo de alcohol </h1> </center>\n",
    "\n",
    "<p style=\"text-aling:justify\"> Analsis para identificar las caracteristicas del set de datos relacionado al consumo de licor. </p>\n",
    "                                                      \n"
   ]
  },
  {
   "cell_type": "markdown",
   "id": "b0423c17",
   "metadata": {},
   "source": [
    "<h2 style=\"color:#F7DC6F\"> 1.Carga y estandarizacion de los archivos de datos </h2>\n",
    "\n",
    "<p> Que se hace en este apartado? </p>\n",
    "\n",
    "<ol>\n",
    "    <li> Importar las librerias que se necesitan </li>\n",
    "    <li> Importar los sets de datos de los CSV </li>\n",
    "    <li> Revisar los encabezados de los Dataframes </li>\n",
    "</ol>\n",
    "\n",
    "<h3 style=\"color:#F7DC6F\"> 1.1.Importacion de liberias </h3>\n"
   ]
  },
  {
   "cell_type": "code",
   "execution_count": 1,
   "id": "833646d3",
   "metadata": {},
   "outputs": [],
   "source": [
    "import pandas as pd\n",
    "import numpy as np\n",
    "import matplotlib.pyplot as plt\n",
    "import matplotlib as mplt"
   ]
  },
  {
   "cell_type": "markdown",
   "id": "27290eff",
   "metadata": {},
   "source": [
    "<h3 style=\"color:#F7DC6F\"> 1.2 Carga de datos </h3>"
   ]
  },
  {
   "cell_type": "code",
   "execution_count": 2,
   "id": "8585f888",
   "metadata": {},
   "outputs": [],
   "source": [
    "dfalcohol=pd.read_csv(\"alcohol.csv\")"
   ]
  },
  {
   "cell_type": "code",
   "execution_count": 3,
   "id": "86491035",
   "metadata": {},
   "outputs": [
    {
     "data": {
      "text/plain": [
       "(213, 6)"
      ]
     },
     "execution_count": 3,
     "metadata": {},
     "output_type": "execute_result"
    }
   ],
   "source": [
    "dfalcohol.shape"
   ]
  },
  {
   "cell_type": "code",
   "execution_count": 4,
   "id": "cce7e103",
   "metadata": {},
   "outputs": [
    {
     "data": {
      "text/html": [
       "<div>\n",
       "<style scoped>\n",
       "    .dataframe tbody tr th:only-of-type {\n",
       "        vertical-align: middle;\n",
       "    }\n",
       "\n",
       "    .dataframe tbody tr th {\n",
       "        vertical-align: top;\n",
       "    }\n",
       "\n",
       "    .dataframe thead th {\n",
       "        text-align: right;\n",
       "    }\n",
       "</style>\n",
       "<table border=\"1\" class=\"dataframe\">\n",
       "  <thead>\n",
       "    <tr style=\"text-align: right;\">\n",
       "      <th></th>\n",
       "      <th>country</th>\n",
       "      <th>alcconsumption</th>\n",
       "      <th>incomeperperson</th>\n",
       "      <th>suicideper100th</th>\n",
       "      <th>employrate</th>\n",
       "      <th>urbanrate</th>\n",
       "    </tr>\n",
       "  </thead>\n",
       "  <tbody>\n",
       "    <tr>\n",
       "      <th>0</th>\n",
       "      <td>Afghanistan</td>\n",
       "      <td>0.03</td>\n",
       "      <td>NaN</td>\n",
       "      <td>6.684385</td>\n",
       "      <td>55.700001</td>\n",
       "      <td>24.04</td>\n",
       "    </tr>\n",
       "    <tr>\n",
       "      <th>1</th>\n",
       "      <td>Albania</td>\n",
       "      <td>7.29</td>\n",
       "      <td>1914.996551</td>\n",
       "      <td>7.699330</td>\n",
       "      <td>51.400002</td>\n",
       "      <td>46.72</td>\n",
       "    </tr>\n",
       "    <tr>\n",
       "      <th>2</th>\n",
       "      <td>Algeria</td>\n",
       "      <td>0.69</td>\n",
       "      <td>2231.993335</td>\n",
       "      <td>4.848770</td>\n",
       "      <td>50.500000</td>\n",
       "      <td>65.22</td>\n",
       "    </tr>\n",
       "    <tr>\n",
       "      <th>3</th>\n",
       "      <td>Andorra</td>\n",
       "      <td>10.17</td>\n",
       "      <td>21943.339900</td>\n",
       "      <td>5.362179</td>\n",
       "      <td>NaN</td>\n",
       "      <td>88.92</td>\n",
       "    </tr>\n",
       "    <tr>\n",
       "      <th>4</th>\n",
       "      <td>Angola</td>\n",
       "      <td>5.57</td>\n",
       "      <td>1381.004268</td>\n",
       "      <td>14.554677</td>\n",
       "      <td>75.699997</td>\n",
       "      <td>56.70</td>\n",
       "    </tr>\n",
       "  </tbody>\n",
       "</table>\n",
       "</div>"
      ],
      "text/plain": [
       "       country  alcconsumption  incomeperperson  suicideper100th  employrate  \\\n",
       "0  Afghanistan            0.03              NaN         6.684385   55.700001   \n",
       "1      Albania            7.29      1914.996551         7.699330   51.400002   \n",
       "2      Algeria            0.69      2231.993335         4.848770   50.500000   \n",
       "3      Andorra           10.17     21943.339900         5.362179         NaN   \n",
       "4       Angola            5.57      1381.004268        14.554677   75.699997   \n",
       "\n",
       "   urbanrate  \n",
       "0      24.04  \n",
       "1      46.72  \n",
       "2      65.22  \n",
       "3      88.92  \n",
       "4      56.70  "
      ]
     },
     "execution_count": 4,
     "metadata": {},
     "output_type": "execute_result"
    }
   ],
   "source": [
    "dfalcohol.head()"
   ]
  },
  {
   "cell_type": "code",
   "execution_count": 5,
   "id": "9bc6e993",
   "metadata": {},
   "outputs": [
    {
     "data": {
      "text/html": [
       "<div>\n",
       "<style scoped>\n",
       "    .dataframe tbody tr th:only-of-type {\n",
       "        vertical-align: middle;\n",
       "    }\n",
       "\n",
       "    .dataframe tbody tr th {\n",
       "        vertical-align: top;\n",
       "    }\n",
       "\n",
       "    .dataframe thead th {\n",
       "        text-align: right;\n",
       "    }\n",
       "</style>\n",
       "<table border=\"1\" class=\"dataframe\">\n",
       "  <thead>\n",
       "    <tr style=\"text-align: right;\">\n",
       "      <th></th>\n",
       "      <th>country</th>\n",
       "      <th>alcconsumption</th>\n",
       "      <th>incomeperperson</th>\n",
       "      <th>suicideper100th</th>\n",
       "      <th>employrate</th>\n",
       "      <th>urbanrate</th>\n",
       "    </tr>\n",
       "  </thead>\n",
       "  <tbody>\n",
       "    <tr>\n",
       "      <th>208</th>\n",
       "      <td>Vietnam</td>\n",
       "      <td>3.91</td>\n",
       "      <td>722.807559</td>\n",
       "      <td>11.653322</td>\n",
       "      <td>71.000000</td>\n",
       "      <td>27.84</td>\n",
       "    </tr>\n",
       "    <tr>\n",
       "      <th>209</th>\n",
       "      <td>West Bank and Gaza</td>\n",
       "      <td>NaN</td>\n",
       "      <td>NaN</td>\n",
       "      <td>NaN</td>\n",
       "      <td>32.000000</td>\n",
       "      <td>71.90</td>\n",
       "    </tr>\n",
       "    <tr>\n",
       "      <th>210</th>\n",
       "      <td>Yemen, Rep.</td>\n",
       "      <td>0.20</td>\n",
       "      <td>610.357367</td>\n",
       "      <td>6.265789</td>\n",
       "      <td>39.000000</td>\n",
       "      <td>30.64</td>\n",
       "    </tr>\n",
       "    <tr>\n",
       "      <th>211</th>\n",
       "      <td>Zambia</td>\n",
       "      <td>3.56</td>\n",
       "      <td>432.226337</td>\n",
       "      <td>12.019036</td>\n",
       "      <td>61.000000</td>\n",
       "      <td>35.42</td>\n",
       "    </tr>\n",
       "    <tr>\n",
       "      <th>212</th>\n",
       "      <td>Zimbabwe</td>\n",
       "      <td>4.96</td>\n",
       "      <td>320.771890</td>\n",
       "      <td>13.905267</td>\n",
       "      <td>66.800003</td>\n",
       "      <td>37.34</td>\n",
       "    </tr>\n",
       "  </tbody>\n",
       "</table>\n",
       "</div>"
      ],
      "text/plain": [
       "                country  alcconsumption  incomeperperson  suicideper100th  \\\n",
       "208             Vietnam            3.91       722.807559        11.653322   \n",
       "209  West Bank and Gaza             NaN              NaN              NaN   \n",
       "210         Yemen, Rep.            0.20       610.357367         6.265789   \n",
       "211              Zambia            3.56       432.226337        12.019036   \n",
       "212            Zimbabwe            4.96       320.771890        13.905267   \n",
       "\n",
       "     employrate  urbanrate  \n",
       "208   71.000000      27.84  \n",
       "209   32.000000      71.90  \n",
       "210   39.000000      30.64  \n",
       "211   61.000000      35.42  \n",
       "212   66.800003      37.34  "
      ]
     },
     "execution_count": 5,
     "metadata": {},
     "output_type": "execute_result"
    }
   ],
   "source": [
    "dfalcohol.tail()"
   ]
  },
  {
   "cell_type": "markdown",
   "id": "dd8f1ba5",
   "metadata": {},
   "source": [
    "<h3 style=\"color:#F7DC6F\"> 1.3. Revisar los encabezados </h3>"
   ]
  },
  {
   "cell_type": "code",
   "execution_count": 6,
   "id": "131f0ee0",
   "metadata": {},
   "outputs": [
    {
     "name": "stdout",
     "output_type": "stream",
     "text": [
      "<class 'pandas.core.frame.DataFrame'>\n",
      "RangeIndex: 213 entries, 0 to 212\n",
      "Data columns (total 6 columns):\n",
      " #   Column           Non-Null Count  Dtype  \n",
      "---  ------           --------------  -----  \n",
      " 0   country          213 non-null    object \n",
      " 1   alcconsumption   187 non-null    float64\n",
      " 2   incomeperperson  190 non-null    float64\n",
      " 3   suicideper100th  191 non-null    float64\n",
      " 4   employrate       178 non-null    float64\n",
      " 5   urbanrate        203 non-null    float64\n",
      "dtypes: float64(5), object(1)\n",
      "memory usage: 10.1+ KB\n"
     ]
    }
   ],
   "source": [
    "dfalcohol.info()"
   ]
  },
  {
   "cell_type": "markdown",
   "id": "37670e8d",
   "metadata": {},
   "source": [
    "<h2 style=\"color:#F7DC6F\"> 2. Manejo de valores faltantes o perdidos </h2>\n",
    "\n",
    "<p> Que se hace en este apartado? </p>\n",
    "\n",
    "<ol>\n",
    "    <li> Contar los valores faltantes por varaibles </li>\n",
    "    <li> Analisis de imputacion de valores con la media </li>\n",
    "    <li> Analsis de imputacion de valores string con el dato mas frecuente </li>\n",
    "    <li> Analisis para eliminar valores faltantes </li>\n",
    "</ol>\n"
   ]
  },
  {
   "cell_type": "markdown",
   "id": "d464a1a4",
   "metadata": {},
   "source": [
    "<h3 style=\"color:#F7DC6F\"> 2.1 Contar los valores faltantes o perdidos por variable </h3>"
   ]
  },
  {
   "cell_type": "code",
   "execution_count": 7,
   "id": "3ce1ee0b",
   "metadata": {},
   "outputs": [
    {
     "data": {
      "text/html": [
       "<div>\n",
       "<style scoped>\n",
       "    .dataframe tbody tr th:only-of-type {\n",
       "        vertical-align: middle;\n",
       "    }\n",
       "\n",
       "    .dataframe tbody tr th {\n",
       "        vertical-align: top;\n",
       "    }\n",
       "\n",
       "    .dataframe thead th {\n",
       "        text-align: right;\n",
       "    }\n",
       "</style>\n",
       "<table border=\"1\" class=\"dataframe\">\n",
       "  <thead>\n",
       "    <tr style=\"text-align: right;\">\n",
       "      <th></th>\n",
       "      <th>country</th>\n",
       "      <th>alcconsumption</th>\n",
       "      <th>incomeperperson</th>\n",
       "      <th>suicideper100th</th>\n",
       "      <th>employrate</th>\n",
       "      <th>urbanrate</th>\n",
       "    </tr>\n",
       "  </thead>\n",
       "  <tbody>\n",
       "    <tr>\n",
       "      <th>0</th>\n",
       "      <td>False</td>\n",
       "      <td>False</td>\n",
       "      <td>True</td>\n",
       "      <td>False</td>\n",
       "      <td>False</td>\n",
       "      <td>False</td>\n",
       "    </tr>\n",
       "    <tr>\n",
       "      <th>1</th>\n",
       "      <td>False</td>\n",
       "      <td>False</td>\n",
       "      <td>False</td>\n",
       "      <td>False</td>\n",
       "      <td>False</td>\n",
       "      <td>False</td>\n",
       "    </tr>\n",
       "    <tr>\n",
       "      <th>2</th>\n",
       "      <td>False</td>\n",
       "      <td>False</td>\n",
       "      <td>False</td>\n",
       "      <td>False</td>\n",
       "      <td>False</td>\n",
       "      <td>False</td>\n",
       "    </tr>\n",
       "    <tr>\n",
       "      <th>3</th>\n",
       "      <td>False</td>\n",
       "      <td>False</td>\n",
       "      <td>False</td>\n",
       "      <td>False</td>\n",
       "      <td>True</td>\n",
       "      <td>False</td>\n",
       "    </tr>\n",
       "    <tr>\n",
       "      <th>4</th>\n",
       "      <td>False</td>\n",
       "      <td>False</td>\n",
       "      <td>False</td>\n",
       "      <td>False</td>\n",
       "      <td>False</td>\n",
       "      <td>False</td>\n",
       "    </tr>\n",
       "  </tbody>\n",
       "</table>\n",
       "</div>"
      ],
      "text/plain": [
       "   country  alcconsumption  incomeperperson  suicideper100th  employrate  \\\n",
       "0    False           False             True            False       False   \n",
       "1    False           False            False            False       False   \n",
       "2    False           False            False            False       False   \n",
       "3    False           False            False            False        True   \n",
       "4    False           False            False            False       False   \n",
       "\n",
       "   urbanrate  \n",
       "0      False  \n",
       "1      False  \n",
       "2      False  \n",
       "3      False  \n",
       "4      False  "
      ]
     },
     "execution_count": 7,
     "metadata": {},
     "output_type": "execute_result"
    }
   ],
   "source": [
    "valoresperdidos=dfalcohol.isnull()\n",
    "valoresperdidos.head()"
   ]
  },
  {
   "cell_type": "code",
   "execution_count": 8,
   "id": "283e6b24",
   "metadata": {},
   "outputs": [
    {
     "name": "stdout",
     "output_type": "stream",
     "text": [
      "country\n",
      "False    213\n",
      "Name: country, dtype: int64\n",
      " \n",
      "alcconsumption\n",
      "False    187\n",
      "True      26\n",
      "Name: alcconsumption, dtype: int64\n",
      " \n",
      "incomeperperson\n",
      "False    190\n",
      "True      23\n",
      "Name: incomeperperson, dtype: int64\n",
      " \n",
      "suicideper100th\n",
      "False    191\n",
      "True      22\n",
      "Name: suicideper100th, dtype: int64\n",
      " \n",
      "employrate\n",
      "False    178\n",
      "True      35\n",
      "Name: employrate, dtype: int64\n",
      " \n",
      "urbanrate\n",
      "False    203\n",
      "True      10\n",
      "Name: urbanrate, dtype: int64\n",
      " \n"
     ]
    }
   ],
   "source": [
    "for column in valoresperdidos.columns.values.tolist():\n",
    "    print(column)\n",
    "    print(valoresperdidos[column].value_counts())\n",
    "    print(\" \")"
   ]
  },
  {
   "cell_type": "markdown",
   "id": "c238849e",
   "metadata": {},
   "source": [
    "<h3 style=\"color:#F7DC6F\">2.2.Imputar valores numericos con la media </h3>"
   ]
  },
  {
   "cell_type": "code",
   "execution_count": 9,
   "id": "d496f765",
   "metadata": {},
   "outputs": [
    {
     "name": "stdout",
     "output_type": "stream",
     "text": [
      "La media de alcconsumption es: 6.689411764705882\n"
     ]
    }
   ],
   "source": [
    "avg_norm=dfalcohol[\"alcconsumption\"].astype(\"float\").mean(axis=0)\n",
    "print(\"La media de alcconsumption es:\", avg_norm)"
   ]
  },
  {
   "cell_type": "code",
   "execution_count": 10,
   "id": "80f99d96",
   "metadata": {},
   "outputs": [
    {
     "data": {
      "text/html": [
       "<div>\n",
       "<style scoped>\n",
       "    .dataframe tbody tr th:only-of-type {\n",
       "        vertical-align: middle;\n",
       "    }\n",
       "\n",
       "    .dataframe tbody tr th {\n",
       "        vertical-align: top;\n",
       "    }\n",
       "\n",
       "    .dataframe thead th {\n",
       "        text-align: right;\n",
       "    }\n",
       "</style>\n",
       "<table border=\"1\" class=\"dataframe\">\n",
       "  <thead>\n",
       "    <tr style=\"text-align: right;\">\n",
       "      <th></th>\n",
       "      <th>country</th>\n",
       "      <th>alcconsumption</th>\n",
       "      <th>incomeperperson</th>\n",
       "      <th>suicideper100th</th>\n",
       "      <th>employrate</th>\n",
       "      <th>urbanrate</th>\n",
       "    </tr>\n",
       "  </thead>\n",
       "  <tbody>\n",
       "    <tr>\n",
       "      <th>0</th>\n",
       "      <td>Afghanistan</td>\n",
       "      <td>0.03</td>\n",
       "      <td>NaN</td>\n",
       "      <td>6.684385</td>\n",
       "      <td>55.700001</td>\n",
       "      <td>24.04</td>\n",
       "    </tr>\n",
       "    <tr>\n",
       "      <th>1</th>\n",
       "      <td>Albania</td>\n",
       "      <td>7.29</td>\n",
       "      <td>1914.996551</td>\n",
       "      <td>7.699330</td>\n",
       "      <td>51.400002</td>\n",
       "      <td>46.72</td>\n",
       "    </tr>\n",
       "    <tr>\n",
       "      <th>2</th>\n",
       "      <td>Algeria</td>\n",
       "      <td>0.69</td>\n",
       "      <td>2231.993335</td>\n",
       "      <td>4.848770</td>\n",
       "      <td>50.500000</td>\n",
       "      <td>65.22</td>\n",
       "    </tr>\n",
       "    <tr>\n",
       "      <th>3</th>\n",
       "      <td>Andorra</td>\n",
       "      <td>10.17</td>\n",
       "      <td>21943.339900</td>\n",
       "      <td>5.362179</td>\n",
       "      <td>NaN</td>\n",
       "      <td>88.92</td>\n",
       "    </tr>\n",
       "    <tr>\n",
       "      <th>4</th>\n",
       "      <td>Angola</td>\n",
       "      <td>5.57</td>\n",
       "      <td>1381.004268</td>\n",
       "      <td>14.554677</td>\n",
       "      <td>75.699997</td>\n",
       "      <td>56.70</td>\n",
       "    </tr>\n",
       "  </tbody>\n",
       "</table>\n",
       "</div>"
      ],
      "text/plain": [
       "       country  alcconsumption  incomeperperson  suicideper100th  employrate  \\\n",
       "0  Afghanistan            0.03              NaN         6.684385   55.700001   \n",
       "1      Albania            7.29      1914.996551         7.699330   51.400002   \n",
       "2      Algeria            0.69      2231.993335         4.848770   50.500000   \n",
       "3      Andorra           10.17     21943.339900         5.362179         NaN   \n",
       "4       Angola            5.57      1381.004268        14.554677   75.699997   \n",
       "\n",
       "   urbanrate  \n",
       "0      24.04  \n",
       "1      46.72  \n",
       "2      65.22  \n",
       "3      88.92  \n",
       "4      56.70  "
      ]
     },
     "execution_count": 10,
     "metadata": {},
     "output_type": "execute_result"
    }
   ],
   "source": [
    "dfalcohol[\"alcconsumption\"].replace(np.nan,6.6,inplace=True)\n",
    "dfalcohol.head(5)"
   ]
  },
  {
   "cell_type": "code",
   "execution_count": 11,
   "id": "06589163",
   "metadata": {},
   "outputs": [
    {
     "name": "stdout",
     "output_type": "stream",
     "text": [
      "La media de incomeperperson es: 8740.96607617579\n"
     ]
    }
   ],
   "source": [
    "avg_norm=dfalcohol[\"incomeperperson\"].astype(\"float\").mean(axis=0)\n",
    "print(\"La media de incomeperperson es:\", avg_norm)"
   ]
  },
  {
   "cell_type": "code",
   "execution_count": 12,
   "id": "584b9a3e",
   "metadata": {},
   "outputs": [
    {
     "data": {
      "text/html": [
       "<div>\n",
       "<style scoped>\n",
       "    .dataframe tbody tr th:only-of-type {\n",
       "        vertical-align: middle;\n",
       "    }\n",
       "\n",
       "    .dataframe tbody tr th {\n",
       "        vertical-align: top;\n",
       "    }\n",
       "\n",
       "    .dataframe thead th {\n",
       "        text-align: right;\n",
       "    }\n",
       "</style>\n",
       "<table border=\"1\" class=\"dataframe\">\n",
       "  <thead>\n",
       "    <tr style=\"text-align: right;\">\n",
       "      <th></th>\n",
       "      <th>country</th>\n",
       "      <th>alcconsumption</th>\n",
       "      <th>incomeperperson</th>\n",
       "      <th>suicideper100th</th>\n",
       "      <th>employrate</th>\n",
       "      <th>urbanrate</th>\n",
       "    </tr>\n",
       "  </thead>\n",
       "  <tbody>\n",
       "    <tr>\n",
       "      <th>0</th>\n",
       "      <td>Afghanistan</td>\n",
       "      <td>0.03</td>\n",
       "      <td>8741.000000</td>\n",
       "      <td>6.684385</td>\n",
       "      <td>55.700001</td>\n",
       "      <td>24.04</td>\n",
       "    </tr>\n",
       "    <tr>\n",
       "      <th>1</th>\n",
       "      <td>Albania</td>\n",
       "      <td>7.29</td>\n",
       "      <td>1914.996551</td>\n",
       "      <td>7.699330</td>\n",
       "      <td>51.400002</td>\n",
       "      <td>46.72</td>\n",
       "    </tr>\n",
       "    <tr>\n",
       "      <th>2</th>\n",
       "      <td>Algeria</td>\n",
       "      <td>0.69</td>\n",
       "      <td>2231.993335</td>\n",
       "      <td>4.848770</td>\n",
       "      <td>50.500000</td>\n",
       "      <td>65.22</td>\n",
       "    </tr>\n",
       "    <tr>\n",
       "      <th>3</th>\n",
       "      <td>Andorra</td>\n",
       "      <td>10.17</td>\n",
       "      <td>21943.339900</td>\n",
       "      <td>5.362179</td>\n",
       "      <td>NaN</td>\n",
       "      <td>88.92</td>\n",
       "    </tr>\n",
       "    <tr>\n",
       "      <th>4</th>\n",
       "      <td>Angola</td>\n",
       "      <td>5.57</td>\n",
       "      <td>1381.004268</td>\n",
       "      <td>14.554677</td>\n",
       "      <td>75.699997</td>\n",
       "      <td>56.70</td>\n",
       "    </tr>\n",
       "  </tbody>\n",
       "</table>\n",
       "</div>"
      ],
      "text/plain": [
       "       country  alcconsumption  incomeperperson  suicideper100th  employrate  \\\n",
       "0  Afghanistan            0.03      8741.000000         6.684385   55.700001   \n",
       "1      Albania            7.29      1914.996551         7.699330   51.400002   \n",
       "2      Algeria            0.69      2231.993335         4.848770   50.500000   \n",
       "3      Andorra           10.17     21943.339900         5.362179         NaN   \n",
       "4       Angola            5.57      1381.004268        14.554677   75.699997   \n",
       "\n",
       "   urbanrate  \n",
       "0      24.04  \n",
       "1      46.72  \n",
       "2      65.22  \n",
       "3      88.92  \n",
       "4      56.70  "
      ]
     },
     "execution_count": 12,
     "metadata": {},
     "output_type": "execute_result"
    }
   ],
   "source": [
    "dfalcohol[\"incomeperperson\"].replace(np.nan,8741,inplace=True)\n",
    "dfalcohol.head(5)"
   ]
  },
  {
   "cell_type": "code",
   "execution_count": 13,
   "id": "195bb2c5",
   "metadata": {},
   "outputs": [
    {
     "name": "stdout",
     "output_type": "stream",
     "text": [
      "La media de suicideper100th es: 9.640839010502612\n"
     ]
    }
   ],
   "source": [
    "avg_norm=dfalcohol[\"suicideper100th\"].astype(\"float\").mean(axis=0)\n",
    "print(\"La media de suicideper100th es:\", avg_norm)"
   ]
  },
  {
   "cell_type": "code",
   "execution_count": 14,
   "id": "8deccbcf",
   "metadata": {},
   "outputs": [
    {
     "data": {
      "text/html": [
       "<div>\n",
       "<style scoped>\n",
       "    .dataframe tbody tr th:only-of-type {\n",
       "        vertical-align: middle;\n",
       "    }\n",
       "\n",
       "    .dataframe tbody tr th {\n",
       "        vertical-align: top;\n",
       "    }\n",
       "\n",
       "    .dataframe thead th {\n",
       "        text-align: right;\n",
       "    }\n",
       "</style>\n",
       "<table border=\"1\" class=\"dataframe\">\n",
       "  <thead>\n",
       "    <tr style=\"text-align: right;\">\n",
       "      <th></th>\n",
       "      <th>country</th>\n",
       "      <th>alcconsumption</th>\n",
       "      <th>incomeperperson</th>\n",
       "      <th>suicideper100th</th>\n",
       "      <th>employrate</th>\n",
       "      <th>urbanrate</th>\n",
       "    </tr>\n",
       "  </thead>\n",
       "  <tbody>\n",
       "    <tr>\n",
       "      <th>0</th>\n",
       "      <td>Afghanistan</td>\n",
       "      <td>0.03</td>\n",
       "      <td>8741.000000</td>\n",
       "      <td>6.684385</td>\n",
       "      <td>55.700001</td>\n",
       "      <td>24.04</td>\n",
       "    </tr>\n",
       "    <tr>\n",
       "      <th>1</th>\n",
       "      <td>Albania</td>\n",
       "      <td>7.29</td>\n",
       "      <td>1914.996551</td>\n",
       "      <td>7.699330</td>\n",
       "      <td>51.400002</td>\n",
       "      <td>46.72</td>\n",
       "    </tr>\n",
       "    <tr>\n",
       "      <th>2</th>\n",
       "      <td>Algeria</td>\n",
       "      <td>0.69</td>\n",
       "      <td>2231.993335</td>\n",
       "      <td>4.848770</td>\n",
       "      <td>50.500000</td>\n",
       "      <td>65.22</td>\n",
       "    </tr>\n",
       "    <tr>\n",
       "      <th>3</th>\n",
       "      <td>Andorra</td>\n",
       "      <td>10.17</td>\n",
       "      <td>21943.339900</td>\n",
       "      <td>5.362179</td>\n",
       "      <td>NaN</td>\n",
       "      <td>88.92</td>\n",
       "    </tr>\n",
       "    <tr>\n",
       "      <th>4</th>\n",
       "      <td>Angola</td>\n",
       "      <td>5.57</td>\n",
       "      <td>1381.004268</td>\n",
       "      <td>14.554677</td>\n",
       "      <td>75.699997</td>\n",
       "      <td>56.70</td>\n",
       "    </tr>\n",
       "  </tbody>\n",
       "</table>\n",
       "</div>"
      ],
      "text/plain": [
       "       country  alcconsumption  incomeperperson  suicideper100th  employrate  \\\n",
       "0  Afghanistan            0.03      8741.000000         6.684385   55.700001   \n",
       "1      Albania            7.29      1914.996551         7.699330   51.400002   \n",
       "2      Algeria            0.69      2231.993335         4.848770   50.500000   \n",
       "3      Andorra           10.17     21943.339900         5.362179         NaN   \n",
       "4       Angola            5.57      1381.004268        14.554677   75.699997   \n",
       "\n",
       "   urbanrate  \n",
       "0      24.04  \n",
       "1      46.72  \n",
       "2      65.22  \n",
       "3      88.92  \n",
       "4      56.70  "
      ]
     },
     "execution_count": 14,
     "metadata": {},
     "output_type": "execute_result"
    }
   ],
   "source": [
    "dfalcohol[\"suicideper100th\"].replace(np.nan,9.6,inplace=True)\n",
    "dfalcohol.head(5)"
   ]
  },
  {
   "cell_type": "code",
   "execution_count": 15,
   "id": "916bd0f4",
   "metadata": {},
   "outputs": [
    {
     "name": "stdout",
     "output_type": "stream",
     "text": [
      "La media de employrate es: 58.63595508224721\n"
     ]
    }
   ],
   "source": [
    "avg_norm=dfalcohol[\"employrate\"].astype(\"float\").mean(axis=0)\n",
    "print(\"La media de employrate es:\", avg_norm)"
   ]
  },
  {
   "cell_type": "code",
   "execution_count": 16,
   "id": "8a5e65e1",
   "metadata": {},
   "outputs": [
    {
     "data": {
      "text/html": [
       "<div>\n",
       "<style scoped>\n",
       "    .dataframe tbody tr th:only-of-type {\n",
       "        vertical-align: middle;\n",
       "    }\n",
       "\n",
       "    .dataframe tbody tr th {\n",
       "        vertical-align: top;\n",
       "    }\n",
       "\n",
       "    .dataframe thead th {\n",
       "        text-align: right;\n",
       "    }\n",
       "</style>\n",
       "<table border=\"1\" class=\"dataframe\">\n",
       "  <thead>\n",
       "    <tr style=\"text-align: right;\">\n",
       "      <th></th>\n",
       "      <th>country</th>\n",
       "      <th>alcconsumption</th>\n",
       "      <th>incomeperperson</th>\n",
       "      <th>suicideper100th</th>\n",
       "      <th>employrate</th>\n",
       "      <th>urbanrate</th>\n",
       "    </tr>\n",
       "  </thead>\n",
       "  <tbody>\n",
       "    <tr>\n",
       "      <th>0</th>\n",
       "      <td>Afghanistan</td>\n",
       "      <td>0.03</td>\n",
       "      <td>8741.000000</td>\n",
       "      <td>6.684385</td>\n",
       "      <td>55.700001</td>\n",
       "      <td>24.04</td>\n",
       "    </tr>\n",
       "    <tr>\n",
       "      <th>1</th>\n",
       "      <td>Albania</td>\n",
       "      <td>7.29</td>\n",
       "      <td>1914.996551</td>\n",
       "      <td>7.699330</td>\n",
       "      <td>51.400002</td>\n",
       "      <td>46.72</td>\n",
       "    </tr>\n",
       "    <tr>\n",
       "      <th>2</th>\n",
       "      <td>Algeria</td>\n",
       "      <td>0.69</td>\n",
       "      <td>2231.993335</td>\n",
       "      <td>4.848770</td>\n",
       "      <td>50.500000</td>\n",
       "      <td>65.22</td>\n",
       "    </tr>\n",
       "    <tr>\n",
       "      <th>3</th>\n",
       "      <td>Andorra</td>\n",
       "      <td>10.17</td>\n",
       "      <td>21943.339900</td>\n",
       "      <td>5.362179</td>\n",
       "      <td>59.000000</td>\n",
       "      <td>88.92</td>\n",
       "    </tr>\n",
       "    <tr>\n",
       "      <th>4</th>\n",
       "      <td>Angola</td>\n",
       "      <td>5.57</td>\n",
       "      <td>1381.004268</td>\n",
       "      <td>14.554677</td>\n",
       "      <td>75.699997</td>\n",
       "      <td>56.70</td>\n",
       "    </tr>\n",
       "  </tbody>\n",
       "</table>\n",
       "</div>"
      ],
      "text/plain": [
       "       country  alcconsumption  incomeperperson  suicideper100th  employrate  \\\n",
       "0  Afghanistan            0.03      8741.000000         6.684385   55.700001   \n",
       "1      Albania            7.29      1914.996551         7.699330   51.400002   \n",
       "2      Algeria            0.69      2231.993335         4.848770   50.500000   \n",
       "3      Andorra           10.17     21943.339900         5.362179   59.000000   \n",
       "4       Angola            5.57      1381.004268        14.554677   75.699997   \n",
       "\n",
       "   urbanrate  \n",
       "0      24.04  \n",
       "1      46.72  \n",
       "2      65.22  \n",
       "3      88.92  \n",
       "4      56.70  "
      ]
     },
     "execution_count": 16,
     "metadata": {},
     "output_type": "execute_result"
    }
   ],
   "source": [
    "dfalcohol[\"employrate\"].replace(np.nan,59,inplace=True)\n",
    "dfalcohol.head(5)"
   ]
  },
  {
   "cell_type": "code",
   "execution_count": 17,
   "id": "2d68ff11",
   "metadata": {},
   "outputs": [
    {
     "name": "stdout",
     "output_type": "stream",
     "text": [
      "La media de urbanrate es: 56.76935960591131\n"
     ]
    }
   ],
   "source": [
    "avg_norm=dfalcohol[\"urbanrate\"].astype(\"float\").mean(axis=0)\n",
    "print(\"La media de urbanrate es:\", avg_norm)"
   ]
  },
  {
   "cell_type": "code",
   "execution_count": 18,
   "id": "ed792308",
   "metadata": {},
   "outputs": [
    {
     "data": {
      "text/html": [
       "<div>\n",
       "<style scoped>\n",
       "    .dataframe tbody tr th:only-of-type {\n",
       "        vertical-align: middle;\n",
       "    }\n",
       "\n",
       "    .dataframe tbody tr th {\n",
       "        vertical-align: top;\n",
       "    }\n",
       "\n",
       "    .dataframe thead th {\n",
       "        text-align: right;\n",
       "    }\n",
       "</style>\n",
       "<table border=\"1\" class=\"dataframe\">\n",
       "  <thead>\n",
       "    <tr style=\"text-align: right;\">\n",
       "      <th></th>\n",
       "      <th>country</th>\n",
       "      <th>alcconsumption</th>\n",
       "      <th>incomeperperson</th>\n",
       "      <th>suicideper100th</th>\n",
       "      <th>employrate</th>\n",
       "      <th>urbanrate</th>\n",
       "    </tr>\n",
       "  </thead>\n",
       "  <tbody>\n",
       "    <tr>\n",
       "      <th>0</th>\n",
       "      <td>Afghanistan</td>\n",
       "      <td>0.03</td>\n",
       "      <td>8741.000000</td>\n",
       "      <td>6.684385</td>\n",
       "      <td>55.700001</td>\n",
       "      <td>24.04</td>\n",
       "    </tr>\n",
       "    <tr>\n",
       "      <th>1</th>\n",
       "      <td>Albania</td>\n",
       "      <td>7.29</td>\n",
       "      <td>1914.996551</td>\n",
       "      <td>7.699330</td>\n",
       "      <td>51.400002</td>\n",
       "      <td>46.72</td>\n",
       "    </tr>\n",
       "    <tr>\n",
       "      <th>2</th>\n",
       "      <td>Algeria</td>\n",
       "      <td>0.69</td>\n",
       "      <td>2231.993335</td>\n",
       "      <td>4.848770</td>\n",
       "      <td>50.500000</td>\n",
       "      <td>65.22</td>\n",
       "    </tr>\n",
       "    <tr>\n",
       "      <th>3</th>\n",
       "      <td>Andorra</td>\n",
       "      <td>10.17</td>\n",
       "      <td>21943.339900</td>\n",
       "      <td>5.362179</td>\n",
       "      <td>59.000000</td>\n",
       "      <td>88.92</td>\n",
       "    </tr>\n",
       "    <tr>\n",
       "      <th>4</th>\n",
       "      <td>Angola</td>\n",
       "      <td>5.57</td>\n",
       "      <td>1381.004268</td>\n",
       "      <td>14.554677</td>\n",
       "      <td>75.699997</td>\n",
       "      <td>56.70</td>\n",
       "    </tr>\n",
       "  </tbody>\n",
       "</table>\n",
       "</div>"
      ],
      "text/plain": [
       "       country  alcconsumption  incomeperperson  suicideper100th  employrate  \\\n",
       "0  Afghanistan            0.03      8741.000000         6.684385   55.700001   \n",
       "1      Albania            7.29      1914.996551         7.699330   51.400002   \n",
       "2      Algeria            0.69      2231.993335         4.848770   50.500000   \n",
       "3      Andorra           10.17     21943.339900         5.362179   59.000000   \n",
       "4       Angola            5.57      1381.004268        14.554677   75.699997   \n",
       "\n",
       "   urbanrate  \n",
       "0      24.04  \n",
       "1      46.72  \n",
       "2      65.22  \n",
       "3      88.92  \n",
       "4      56.70  "
      ]
     },
     "execution_count": 18,
     "metadata": {},
     "output_type": "execute_result"
    }
   ],
   "source": [
    "dfalcohol[\"urbanrate\"].replace(np.nan,57,inplace=True)\n",
    "dfalcohol.head(5)"
   ]
  },
  {
   "cell_type": "code",
   "execution_count": 19,
   "id": "b3c4b9c9",
   "metadata": {},
   "outputs": [
    {
     "name": "stdout",
     "output_type": "stream",
     "text": [
      "country\n",
      "False    213\n",
      "Name: country, dtype: int64\n",
      " \n",
      "alcconsumption\n",
      "False    213\n",
      "Name: alcconsumption, dtype: int64\n",
      " \n",
      "incomeperperson\n",
      "False    213\n",
      "Name: incomeperperson, dtype: int64\n",
      " \n",
      "suicideper100th\n",
      "False    213\n",
      "Name: suicideper100th, dtype: int64\n",
      " \n",
      "employrate\n",
      "False    213\n",
      "Name: employrate, dtype: int64\n",
      " \n",
      "urbanrate\n",
      "False    213\n",
      "Name: urbanrate, dtype: int64\n",
      " \n"
     ]
    }
   ],
   "source": [
    "valoresperdidos=dfalcohol.isnull()\n",
    "for column in valoresperdidos.columns.values.tolist():\n",
    "    print(column)\n",
    "    print(valoresperdidos[column].value_counts())\n",
    "    print(\" \")"
   ]
  },
  {
   "cell_type": "code",
   "execution_count": 20,
   "id": "71079fbd",
   "metadata": {},
   "outputs": [
    {
     "data": {
      "text/plain": [
       "country             object\n",
       "alcconsumption     float64\n",
       "incomeperperson    float64\n",
       "suicideper100th    float64\n",
       "employrate         float64\n",
       "urbanrate          float64\n",
       "dtype: object"
      ]
     },
     "execution_count": 20,
     "metadata": {},
     "output_type": "execute_result"
    }
   ],
   "source": [
    "dfalcohol.dtypes"
   ]
  },
  {
   "cell_type": "code",
   "execution_count": 21,
   "id": "8d1e52d8",
   "metadata": {},
   "outputs": [
    {
     "data": {
      "text/html": [
       "<div>\n",
       "<style scoped>\n",
       "    .dataframe tbody tr th:only-of-type {\n",
       "        vertical-align: middle;\n",
       "    }\n",
       "\n",
       "    .dataframe tbody tr th {\n",
       "        vertical-align: top;\n",
       "    }\n",
       "\n",
       "    .dataframe thead th {\n",
       "        text-align: right;\n",
       "    }\n",
       "</style>\n",
       "<table border=\"1\" class=\"dataframe\">\n",
       "  <thead>\n",
       "    <tr style=\"text-align: right;\">\n",
       "      <th></th>\n",
       "      <th>country</th>\n",
       "      <th>alcconsumption</th>\n",
       "      <th>incomeperperson</th>\n",
       "      <th>suicideper100th</th>\n",
       "      <th>employrate</th>\n",
       "      <th>urbanrate</th>\n",
       "    </tr>\n",
       "  </thead>\n",
       "  <tbody>\n",
       "    <tr>\n",
       "      <th>0</th>\n",
       "      <td>Afghanistan</td>\n",
       "      <td>0.03</td>\n",
       "      <td>8741.0</td>\n",
       "      <td>6.684385</td>\n",
       "      <td>55.700001</td>\n",
       "      <td>24.04</td>\n",
       "    </tr>\n",
       "    <tr>\n",
       "      <th>1</th>\n",
       "      <td>Albania</td>\n",
       "      <td>7.29</td>\n",
       "      <td>1914.996551</td>\n",
       "      <td>7.69933</td>\n",
       "      <td>51.400002</td>\n",
       "      <td>46.72</td>\n",
       "    </tr>\n",
       "    <tr>\n",
       "      <th>2</th>\n",
       "      <td>Algeria</td>\n",
       "      <td>0.69</td>\n",
       "      <td>2231.993335</td>\n",
       "      <td>4.84877</td>\n",
       "      <td>50.5</td>\n",
       "      <td>65.22</td>\n",
       "    </tr>\n",
       "    <tr>\n",
       "      <th>3</th>\n",
       "      <td>Andorra</td>\n",
       "      <td>10.17</td>\n",
       "      <td>21943.3399</td>\n",
       "      <td>5.362179</td>\n",
       "      <td>59.0</td>\n",
       "      <td>88.92</td>\n",
       "    </tr>\n",
       "    <tr>\n",
       "      <th>4</th>\n",
       "      <td>Angola</td>\n",
       "      <td>5.57</td>\n",
       "      <td>1381.004268</td>\n",
       "      <td>14.554677</td>\n",
       "      <td>75.699997</td>\n",
       "      <td>56.7</td>\n",
       "    </tr>\n",
       "    <tr>\n",
       "      <th>...</th>\n",
       "      <td>...</td>\n",
       "      <td>...</td>\n",
       "      <td>...</td>\n",
       "      <td>...</td>\n",
       "      <td>...</td>\n",
       "      <td>...</td>\n",
       "    </tr>\n",
       "    <tr>\n",
       "      <th>208</th>\n",
       "      <td>Vietnam</td>\n",
       "      <td>3.91</td>\n",
       "      <td>722.807559</td>\n",
       "      <td>11.653322</td>\n",
       "      <td>71.0</td>\n",
       "      <td>27.84</td>\n",
       "    </tr>\n",
       "    <tr>\n",
       "      <th>209</th>\n",
       "      <td>West Bank and Gaza</td>\n",
       "      <td>6.6</td>\n",
       "      <td>8741.0</td>\n",
       "      <td>9.6</td>\n",
       "      <td>32.0</td>\n",
       "      <td>71.9</td>\n",
       "    </tr>\n",
       "    <tr>\n",
       "      <th>210</th>\n",
       "      <td>Yemen, Rep.</td>\n",
       "      <td>0.2</td>\n",
       "      <td>610.357367</td>\n",
       "      <td>6.265789</td>\n",
       "      <td>39.0</td>\n",
       "      <td>30.64</td>\n",
       "    </tr>\n",
       "    <tr>\n",
       "      <th>211</th>\n",
       "      <td>Zambia</td>\n",
       "      <td>3.56</td>\n",
       "      <td>432.226337</td>\n",
       "      <td>12.019036</td>\n",
       "      <td>61.0</td>\n",
       "      <td>35.42</td>\n",
       "    </tr>\n",
       "    <tr>\n",
       "      <th>212</th>\n",
       "      <td>Zimbabwe</td>\n",
       "      <td>4.96</td>\n",
       "      <td>320.77189</td>\n",
       "      <td>13.905267</td>\n",
       "      <td>66.800003</td>\n",
       "      <td>37.34</td>\n",
       "    </tr>\n",
       "  </tbody>\n",
       "</table>\n",
       "<p>213 rows × 6 columns</p>\n",
       "</div>"
      ],
      "text/plain": [
       "                country  alcconsumption  incomeperperson  suicideper100th  \\\n",
       "0           Afghanistan            0.03           8741.0         6.684385   \n",
       "1               Albania            7.29      1914.996551          7.69933   \n",
       "2               Algeria            0.69      2231.993335          4.84877   \n",
       "3               Andorra           10.17       21943.3399         5.362179   \n",
       "4                Angola            5.57      1381.004268        14.554677   \n",
       "..                  ...             ...              ...              ...   \n",
       "208             Vietnam            3.91       722.807559        11.653322   \n",
       "209  West Bank and Gaza             6.6           8741.0              9.6   \n",
       "210         Yemen, Rep.             0.2       610.357367         6.265789   \n",
       "211              Zambia            3.56       432.226337        12.019036   \n",
       "212            Zimbabwe            4.96        320.77189        13.905267   \n",
       "\n",
       "     employrate  urbanrate  \n",
       "0     55.700001      24.04  \n",
       "1     51.400002      46.72  \n",
       "2          50.5      65.22  \n",
       "3          59.0      88.92  \n",
       "4     75.699997       56.7  \n",
       "..          ...        ...  \n",
       "208        71.0      27.84  \n",
       "209        32.0       71.9  \n",
       "210        39.0      30.64  \n",
       "211        61.0      35.42  \n",
       "212   66.800003      37.34  \n",
       "\n",
       "[213 rows x 6 columns]"
      ]
     },
     "execution_count": 21,
     "metadata": {},
     "output_type": "execute_result"
    }
   ],
   "source": [
    "dfn = dfalcohol.convert_dtypes()\n",
    "dfn"
   ]
  },
  {
   "cell_type": "code",
   "execution_count": 22,
   "id": "51d410e9",
   "metadata": {},
   "outputs": [
    {
     "data": {
      "text/plain": [
       "country             string\n",
       "alcconsumption     Float64\n",
       "incomeperperson    Float64\n",
       "suicideper100th    Float64\n",
       "employrate         Float64\n",
       "urbanrate          Float64\n",
       "dtype: object"
      ]
     },
     "execution_count": 22,
     "metadata": {},
     "output_type": "execute_result"
    }
   ],
   "source": [
    "dfn.dtypes"
   ]
  },
  {
   "cell_type": "code",
   "execution_count": 23,
   "id": "c6d73473",
   "metadata": {},
   "outputs": [
    {
     "data": {
      "text/plain": [
       "country\n",
       "Afghanistan            6.684385\n",
       "Albania                7.699330\n",
       "Algeria                4.848770\n",
       "Andorra                5.362179\n",
       "Angola                14.554677\n",
       "                        ...    \n",
       "Vietnam               11.653322\n",
       "West Bank and Gaza     9.600000\n",
       "Yemen, Rep.            6.265789\n",
       "Zambia                12.019036\n",
       "Zimbabwe              13.905267\n",
       "Name: suicideper100th, Length: 213, dtype: float64"
      ]
     },
     "execution_count": 23,
     "metadata": {},
     "output_type": "execute_result"
    }
   ],
   "source": [
    "dfalcohol.groupby([\"country\"])[\"suicideper100th\"].agg(\"sum\")"
   ]
  },
  {
   "cell_type": "code",
   "execution_count": 39,
   "id": "7c229e3c",
   "metadata": {},
   "outputs": [
    {
     "data": {
      "text/plain": [
       "country            1\n",
       "alcconsumption     1\n",
       "incomeperperson    1\n",
       "suicideper100th    1\n",
       "employrate         1\n",
       "urbanrate          1\n",
       "dtype: int64"
      ]
     },
     "execution_count": 39,
     "metadata": {},
     "output_type": "execute_result"
    }
   ],
   "source": [
    "freq = dfalcohol.loc[dfalcohol[\"country\"]==\"Vietnam\"]\n",
    "freq.count()"
   ]
  },
  {
   "cell_type": "code",
   "execution_count": null,
   "id": "591b8038",
   "metadata": {},
   "outputs": [],
   "source": []
  }
 ],
 "metadata": {
  "kernelspec": {
   "display_name": "Python 3",
   "language": "python",
   "name": "python3"
  },
  "language_info": {
   "codemirror_mode": {
    "name": "ipython",
    "version": 3
   },
   "file_extension": ".py",
   "mimetype": "text/x-python",
   "name": "python",
   "nbconvert_exporter": "python",
   "pygments_lexer": "ipython3",
   "version": "3.8.8"
  }
 },
 "nbformat": 4,
 "nbformat_minor": 5
}
