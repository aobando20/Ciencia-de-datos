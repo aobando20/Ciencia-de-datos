{
 "cells": [
  {
   "cell_type": "markdown",
   "id": "777f2008",
   "metadata": {},
   "source": [
    "<center> <img SRC=\"calentamiento.jpg\" align=\"center\"/> </center>\n",
    "\n",
    "<center> <h1 style=\"color:#5DADE2\"> Análisis de Temperatura Promedio de las mayores cuidades del mundo </h1> </center>\n",
    "\n",
    "<center> <h2 style=\"color:#5DADE2\"> Set de datos desde 1995 hasta el presente </h2> </center>\n",
    "\n",
    "<center> <h3 style=\"color:#5DADE2\"> Curso de Análisis de datos </h3> </center>\n",
    "\n",
    "<p style=\"Text-align:justify\"> El siguiente análisis se realiza con el fin de explorar la temperatura en diferentes cuidades del mundo a partir desde 1995, como parte del proyecto final;pero también al ser un tema de importante relevancia en los ultimos años y su efecto con el cambio climatico. </p>"
   ]
  },
  {
   "cell_type": "markdown",
   "id": "50034bae",
   "metadata": {},
   "source": [
    "<h2 style=\"color:#C70039  \"> 1. Carga y estandarizacion de los archivos de datos </h2>\n",
    "<p> Que hace este apartado? </p>\n",
    "<ol>\n",
    "    <li>Importar las liberias que se necesitan</li>\n",
    "    <li>Importar los sets de datos de los CSV </li>\n",
    "    <li>Revisar los encabezados de los Data Frames </li>\n",
    "</ol>\n",
    "<h3 style=\"color:#C70039 \"> 1.1 Importacion de librerias </h3>"
   ]
  },
  {
   "cell_type": "code",
   "execution_count": 1,
   "id": "8b730b94",
   "metadata": {},
   "outputs": [],
   "source": [
    "#Importacion de librerias necesarias para el analisis de datos \n",
    "\n",
    "import pandas as pd # El manejo de los marcos de datos (Dataframes)\n",
    "import numpy as np # El manejo de estructuras de datos cmo listas,directorios,arrays\n",
    "import matplotlib.pyplot as plt # Se utliza para crear graficas basadas en datos\n",
    "import matplotlib as mplt # Se utiliza para crear graficas basadas en los datos."
   ]
  },
  {
   "cell_type": "markdown",
   "id": "117b3e65",
   "metadata": {},
   "source": [
    "<h3 style=\"color:#C70039 \">1.2. Carga de Datos"
   ]
  },
  {
   "cell_type": "code",
   "execution_count": 2,
   "id": "18444aa1",
   "metadata": {},
   "outputs": [],
   "source": [
    "# Carga del set de datos\n",
    "import pandas as pd\n",
    "\n",
    "dfcity_temperature=pd.read_csv(\"city_temperature.csv\", low_memory=False)"
   ]
  },
  {
   "cell_type": "markdown",
   "id": "553bcea2",
   "metadata": {},
   "source": [
    "<h3 style=\"color:#C70039 \">1.3.Revisar los encabezados"
   ]
  },
  {
   "cell_type": "code",
   "execution_count": 3,
   "id": "0c579692",
   "metadata": {},
   "outputs": [
    {
     "data": {
      "text/html": [
       "<div>\n",
       "<style scoped>\n",
       "    .dataframe tbody tr th:only-of-type {\n",
       "        vertical-align: middle;\n",
       "    }\n",
       "\n",
       "    .dataframe tbody tr th {\n",
       "        vertical-align: top;\n",
       "    }\n",
       "\n",
       "    .dataframe thead th {\n",
       "        text-align: right;\n",
       "    }\n",
       "</style>\n",
       "<table border=\"1\" class=\"dataframe\">\n",
       "  <thead>\n",
       "    <tr style=\"text-align: right;\">\n",
       "      <th></th>\n",
       "      <th>Region</th>\n",
       "      <th>Country</th>\n",
       "      <th>State</th>\n",
       "      <th>City</th>\n",
       "      <th>Month</th>\n",
       "      <th>Day</th>\n",
       "      <th>Year</th>\n",
       "      <th>AvgTemperature</th>\n",
       "    </tr>\n",
       "  </thead>\n",
       "  <tbody>\n",
       "    <tr>\n",
       "      <th>0</th>\n",
       "      <td>Africa</td>\n",
       "      <td>Algeria</td>\n",
       "      <td>NaN</td>\n",
       "      <td>Algiers</td>\n",
       "      <td>1</td>\n",
       "      <td>1</td>\n",
       "      <td>1995</td>\n",
       "      <td>64.2</td>\n",
       "    </tr>\n",
       "    <tr>\n",
       "      <th>1</th>\n",
       "      <td>Africa</td>\n",
       "      <td>Algeria</td>\n",
       "      <td>NaN</td>\n",
       "      <td>Algiers</td>\n",
       "      <td>1</td>\n",
       "      <td>2</td>\n",
       "      <td>1995</td>\n",
       "      <td>49.4</td>\n",
       "    </tr>\n",
       "    <tr>\n",
       "      <th>2</th>\n",
       "      <td>Africa</td>\n",
       "      <td>Algeria</td>\n",
       "      <td>NaN</td>\n",
       "      <td>Algiers</td>\n",
       "      <td>1</td>\n",
       "      <td>3</td>\n",
       "      <td>1995</td>\n",
       "      <td>48.8</td>\n",
       "    </tr>\n",
       "    <tr>\n",
       "      <th>3</th>\n",
       "      <td>Africa</td>\n",
       "      <td>Algeria</td>\n",
       "      <td>NaN</td>\n",
       "      <td>Algiers</td>\n",
       "      <td>1</td>\n",
       "      <td>4</td>\n",
       "      <td>1995</td>\n",
       "      <td>46.4</td>\n",
       "    </tr>\n",
       "    <tr>\n",
       "      <th>4</th>\n",
       "      <td>Africa</td>\n",
       "      <td>Algeria</td>\n",
       "      <td>NaN</td>\n",
       "      <td>Algiers</td>\n",
       "      <td>1</td>\n",
       "      <td>5</td>\n",
       "      <td>1995</td>\n",
       "      <td>47.9</td>\n",
       "    </tr>\n",
       "    <tr>\n",
       "      <th>...</th>\n",
       "      <td>...</td>\n",
       "      <td>...</td>\n",
       "      <td>...</td>\n",
       "      <td>...</td>\n",
       "      <td>...</td>\n",
       "      <td>...</td>\n",
       "      <td>...</td>\n",
       "      <td>...</td>\n",
       "    </tr>\n",
       "    <tr>\n",
       "      <th>2906322</th>\n",
       "      <td>North America</td>\n",
       "      <td>US</td>\n",
       "      <td>Additional Territories</td>\n",
       "      <td>San Juan Puerto Rico</td>\n",
       "      <td>7</td>\n",
       "      <td>27</td>\n",
       "      <td>2013</td>\n",
       "      <td>82.4</td>\n",
       "    </tr>\n",
       "    <tr>\n",
       "      <th>2906323</th>\n",
       "      <td>North America</td>\n",
       "      <td>US</td>\n",
       "      <td>Additional Territories</td>\n",
       "      <td>San Juan Puerto Rico</td>\n",
       "      <td>7</td>\n",
       "      <td>28</td>\n",
       "      <td>2013</td>\n",
       "      <td>81.6</td>\n",
       "    </tr>\n",
       "    <tr>\n",
       "      <th>2906324</th>\n",
       "      <td>North America</td>\n",
       "      <td>US</td>\n",
       "      <td>Additional Territories</td>\n",
       "      <td>San Juan Puerto Rico</td>\n",
       "      <td>7</td>\n",
       "      <td>29</td>\n",
       "      <td>2013</td>\n",
       "      <td>84.2</td>\n",
       "    </tr>\n",
       "    <tr>\n",
       "      <th>2906325</th>\n",
       "      <td>North America</td>\n",
       "      <td>US</td>\n",
       "      <td>Additional Territories</td>\n",
       "      <td>San Juan Puerto Rico</td>\n",
       "      <td>7</td>\n",
       "      <td>30</td>\n",
       "      <td>2013</td>\n",
       "      <td>83.8</td>\n",
       "    </tr>\n",
       "    <tr>\n",
       "      <th>2906326</th>\n",
       "      <td>North America</td>\n",
       "      <td>US</td>\n",
       "      <td>Additional Territories</td>\n",
       "      <td>San Juan Puerto Rico</td>\n",
       "      <td>7</td>\n",
       "      <td>31</td>\n",
       "      <td>2013</td>\n",
       "      <td>83.6</td>\n",
       "    </tr>\n",
       "  </tbody>\n",
       "</table>\n",
       "<p>2906327 rows × 8 columns</p>\n",
       "</div>"
      ],
      "text/plain": [
       "                Region  Country                   State                  City  \\\n",
       "0               Africa  Algeria                     NaN               Algiers   \n",
       "1               Africa  Algeria                     NaN               Algiers   \n",
       "2               Africa  Algeria                     NaN               Algiers   \n",
       "3               Africa  Algeria                     NaN               Algiers   \n",
       "4               Africa  Algeria                     NaN               Algiers   \n",
       "...                ...      ...                     ...                   ...   \n",
       "2906322  North America       US  Additional Territories  San Juan Puerto Rico   \n",
       "2906323  North America       US  Additional Territories  San Juan Puerto Rico   \n",
       "2906324  North America       US  Additional Territories  San Juan Puerto Rico   \n",
       "2906325  North America       US  Additional Territories  San Juan Puerto Rico   \n",
       "2906326  North America       US  Additional Territories  San Juan Puerto Rico   \n",
       "\n",
       "         Month  Day  Year  AvgTemperature  \n",
       "0            1    1  1995            64.2  \n",
       "1            1    2  1995            49.4  \n",
       "2            1    3  1995            48.8  \n",
       "3            1    4  1995            46.4  \n",
       "4            1    5  1995            47.9  \n",
       "...        ...  ...   ...             ...  \n",
       "2906322      7   27  2013            82.4  \n",
       "2906323      7   28  2013            81.6  \n",
       "2906324      7   29  2013            84.2  \n",
       "2906325      7   30  2013            83.8  \n",
       "2906326      7   31  2013            83.6  \n",
       "\n",
       "[2906327 rows x 8 columns]"
      ]
     },
     "execution_count": 3,
     "metadata": {},
     "output_type": "execute_result"
    }
   ],
   "source": [
    "dfcity_temperature"
   ]
  },
  {
   "cell_type": "code",
   "execution_count": 4,
   "id": "0c8b66ee",
   "metadata": {},
   "outputs": [
    {
     "name": "stdout",
     "output_type": "stream",
     "text": [
      "<class 'pandas.core.frame.DataFrame'>\n",
      "RangeIndex: 2906327 entries, 0 to 2906326\n",
      "Data columns (total 8 columns):\n",
      " #   Column          Dtype  \n",
      "---  ------          -----  \n",
      " 0   Region          object \n",
      " 1   Country         object \n",
      " 2   State           object \n",
      " 3   City            object \n",
      " 4   Month           int64  \n",
      " 5   Day             int64  \n",
      " 6   Year            int64  \n",
      " 7   AvgTemperature  float64\n",
      "dtypes: float64(1), int64(3), object(4)\n",
      "memory usage: 177.4+ MB\n"
     ]
    }
   ],
   "source": [
    "dfcity_temperature.info()"
   ]
  },
  {
   "cell_type": "code",
   "execution_count": 5,
   "id": "122cc711",
   "metadata": {},
   "outputs": [
    {
     "data": {
      "text/plain": [
       "(2906327, 8)"
      ]
     },
     "execution_count": 5,
     "metadata": {},
     "output_type": "execute_result"
    }
   ],
   "source": [
    "dfcity_temperature.shape"
   ]
  },
  {
   "cell_type": "markdown",
   "id": "1718dbcf",
   "metadata": {},
   "source": [
    "<h2 style=\"color:#C70039 \"> 2. Manejo de Valores Faltantes o Perdidos </h2>\n",
    "<p> Que hace este apartado? </p>\n",
    "<ol>\n",
    "    <li>Identificar como se muestran los valores faltantes y estandarizados (NaN)</li>\n",
    "    <li>Contar los valores faltantes por variables </li>\n",
    "    <li>Analisis de la imputacion de valores String con el dato mas frecuente</li>\n",
    "    <li>Analisis de imputacion de valores con la media </li>\n",
    "    <li>Analisis para eliminar valores faltantes</li>"
   ]
  },
  {
   "cell_type": "markdown",
   "id": "fb659088",
   "metadata": {},
   "source": [
    "<h3 Style=\"color:#C70039 \"> 2.1 Identificacion de valores faltantes o perdidos y estandarizacion"
   ]
  },
  {
   "cell_type": "code",
   "execution_count": 6,
   "id": "db26f579",
   "metadata": {},
   "outputs": [
    {
     "data": {
      "text/html": [
       "<div>\n",
       "<style scoped>\n",
       "    .dataframe tbody tr th:only-of-type {\n",
       "        vertical-align: middle;\n",
       "    }\n",
       "\n",
       "    .dataframe tbody tr th {\n",
       "        vertical-align: top;\n",
       "    }\n",
       "\n",
       "    .dataframe thead th {\n",
       "        text-align: right;\n",
       "    }\n",
       "</style>\n",
       "<table border=\"1\" class=\"dataframe\">\n",
       "  <thead>\n",
       "    <tr style=\"text-align: right;\">\n",
       "      <th></th>\n",
       "      <th>Region</th>\n",
       "      <th>Country</th>\n",
       "      <th>State</th>\n",
       "      <th>City</th>\n",
       "      <th>Month</th>\n",
       "      <th>Day</th>\n",
       "      <th>Year</th>\n",
       "      <th>AvgTemperature</th>\n",
       "    </tr>\n",
       "  </thead>\n",
       "  <tbody>\n",
       "    <tr>\n",
       "      <th>0</th>\n",
       "      <td>Africa</td>\n",
       "      <td>Algeria</td>\n",
       "      <td>NaN</td>\n",
       "      <td>Algiers</td>\n",
       "      <td>1</td>\n",
       "      <td>1</td>\n",
       "      <td>1995</td>\n",
       "      <td>64.2</td>\n",
       "    </tr>\n",
       "    <tr>\n",
       "      <th>1</th>\n",
       "      <td>Africa</td>\n",
       "      <td>Algeria</td>\n",
       "      <td>NaN</td>\n",
       "      <td>Algiers</td>\n",
       "      <td>1</td>\n",
       "      <td>2</td>\n",
       "      <td>1995</td>\n",
       "      <td>49.4</td>\n",
       "    </tr>\n",
       "    <tr>\n",
       "      <th>2</th>\n",
       "      <td>Africa</td>\n",
       "      <td>Algeria</td>\n",
       "      <td>NaN</td>\n",
       "      <td>Algiers</td>\n",
       "      <td>1</td>\n",
       "      <td>3</td>\n",
       "      <td>1995</td>\n",
       "      <td>48.8</td>\n",
       "    </tr>\n",
       "    <tr>\n",
       "      <th>3</th>\n",
       "      <td>Africa</td>\n",
       "      <td>Algeria</td>\n",
       "      <td>NaN</td>\n",
       "      <td>Algiers</td>\n",
       "      <td>1</td>\n",
       "      <td>4</td>\n",
       "      <td>1995</td>\n",
       "      <td>46.4</td>\n",
       "    </tr>\n",
       "    <tr>\n",
       "      <th>4</th>\n",
       "      <td>Africa</td>\n",
       "      <td>Algeria</td>\n",
       "      <td>NaN</td>\n",
       "      <td>Algiers</td>\n",
       "      <td>1</td>\n",
       "      <td>5</td>\n",
       "      <td>1995</td>\n",
       "      <td>47.9</td>\n",
       "    </tr>\n",
       "    <tr>\n",
       "      <th>...</th>\n",
       "      <td>...</td>\n",
       "      <td>...</td>\n",
       "      <td>...</td>\n",
       "      <td>...</td>\n",
       "      <td>...</td>\n",
       "      <td>...</td>\n",
       "      <td>...</td>\n",
       "      <td>...</td>\n",
       "    </tr>\n",
       "    <tr>\n",
       "      <th>2906322</th>\n",
       "      <td>North America</td>\n",
       "      <td>US</td>\n",
       "      <td>Additional Territories</td>\n",
       "      <td>San Juan Puerto Rico</td>\n",
       "      <td>7</td>\n",
       "      <td>27</td>\n",
       "      <td>2013</td>\n",
       "      <td>82.4</td>\n",
       "    </tr>\n",
       "    <tr>\n",
       "      <th>2906323</th>\n",
       "      <td>North America</td>\n",
       "      <td>US</td>\n",
       "      <td>Additional Territories</td>\n",
       "      <td>San Juan Puerto Rico</td>\n",
       "      <td>7</td>\n",
       "      <td>28</td>\n",
       "      <td>2013</td>\n",
       "      <td>81.6</td>\n",
       "    </tr>\n",
       "    <tr>\n",
       "      <th>2906324</th>\n",
       "      <td>North America</td>\n",
       "      <td>US</td>\n",
       "      <td>Additional Territories</td>\n",
       "      <td>San Juan Puerto Rico</td>\n",
       "      <td>7</td>\n",
       "      <td>29</td>\n",
       "      <td>2013</td>\n",
       "      <td>84.2</td>\n",
       "    </tr>\n",
       "    <tr>\n",
       "      <th>2906325</th>\n",
       "      <td>North America</td>\n",
       "      <td>US</td>\n",
       "      <td>Additional Territories</td>\n",
       "      <td>San Juan Puerto Rico</td>\n",
       "      <td>7</td>\n",
       "      <td>30</td>\n",
       "      <td>2013</td>\n",
       "      <td>83.8</td>\n",
       "    </tr>\n",
       "    <tr>\n",
       "      <th>2906326</th>\n",
       "      <td>North America</td>\n",
       "      <td>US</td>\n",
       "      <td>Additional Territories</td>\n",
       "      <td>San Juan Puerto Rico</td>\n",
       "      <td>7</td>\n",
       "      <td>31</td>\n",
       "      <td>2013</td>\n",
       "      <td>83.6</td>\n",
       "    </tr>\n",
       "  </tbody>\n",
       "</table>\n",
       "<p>2906327 rows × 8 columns</p>\n",
       "</div>"
      ],
      "text/plain": [
       "                Region  Country                   State                  City  \\\n",
       "0               Africa  Algeria                     NaN               Algiers   \n",
       "1               Africa  Algeria                     NaN               Algiers   \n",
       "2               Africa  Algeria                     NaN               Algiers   \n",
       "3               Africa  Algeria                     NaN               Algiers   \n",
       "4               Africa  Algeria                     NaN               Algiers   \n",
       "...                ...      ...                     ...                   ...   \n",
       "2906322  North America       US  Additional Territories  San Juan Puerto Rico   \n",
       "2906323  North America       US  Additional Territories  San Juan Puerto Rico   \n",
       "2906324  North America       US  Additional Territories  San Juan Puerto Rico   \n",
       "2906325  North America       US  Additional Territories  San Juan Puerto Rico   \n",
       "2906326  North America       US  Additional Territories  San Juan Puerto Rico   \n",
       "\n",
       "         Month  Day  Year  AvgTemperature  \n",
       "0            1    1  1995            64.2  \n",
       "1            1    2  1995            49.4  \n",
       "2            1    3  1995            48.8  \n",
       "3            1    4  1995            46.4  \n",
       "4            1    5  1995            47.9  \n",
       "...        ...  ...   ...             ...  \n",
       "2906322      7   27  2013            82.4  \n",
       "2906323      7   28  2013            81.6  \n",
       "2906324      7   29  2013            84.2  \n",
       "2906325      7   30  2013            83.8  \n",
       "2906326      7   31  2013            83.6  \n",
       "\n",
       "[2906327 rows x 8 columns]"
      ]
     },
     "execution_count": 6,
     "metadata": {},
     "output_type": "execute_result"
    }
   ],
   "source": [
    "dfcity_temperature"
   ]
  },
  {
   "cell_type": "markdown",
   "id": "34590eec",
   "metadata": {},
   "source": [
    "<h3 Style=\"color:#C70039 \"> 2.2 Contar valores faltantes o perdidos por variable"
   ]
  },
  {
   "cell_type": "code",
   "execution_count": 7,
   "id": "89b18e93",
   "metadata": {},
   "outputs": [
    {
     "data": {
      "text/html": [
       "<div>\n",
       "<style scoped>\n",
       "    .dataframe tbody tr th:only-of-type {\n",
       "        vertical-align: middle;\n",
       "    }\n",
       "\n",
       "    .dataframe tbody tr th {\n",
       "        vertical-align: top;\n",
       "    }\n",
       "\n",
       "    .dataframe thead th {\n",
       "        text-align: right;\n",
       "    }\n",
       "</style>\n",
       "<table border=\"1\" class=\"dataframe\">\n",
       "  <thead>\n",
       "    <tr style=\"text-align: right;\">\n",
       "      <th></th>\n",
       "      <th>Region</th>\n",
       "      <th>Country</th>\n",
       "      <th>State</th>\n",
       "      <th>City</th>\n",
       "      <th>Month</th>\n",
       "      <th>Day</th>\n",
       "      <th>Year</th>\n",
       "      <th>AvgTemperature</th>\n",
       "    </tr>\n",
       "  </thead>\n",
       "  <tbody>\n",
       "    <tr>\n",
       "      <th>0</th>\n",
       "      <td>False</td>\n",
       "      <td>False</td>\n",
       "      <td>True</td>\n",
       "      <td>False</td>\n",
       "      <td>False</td>\n",
       "      <td>False</td>\n",
       "      <td>False</td>\n",
       "      <td>False</td>\n",
       "    </tr>\n",
       "    <tr>\n",
       "      <th>1</th>\n",
       "      <td>False</td>\n",
       "      <td>False</td>\n",
       "      <td>True</td>\n",
       "      <td>False</td>\n",
       "      <td>False</td>\n",
       "      <td>False</td>\n",
       "      <td>False</td>\n",
       "      <td>False</td>\n",
       "    </tr>\n",
       "    <tr>\n",
       "      <th>2</th>\n",
       "      <td>False</td>\n",
       "      <td>False</td>\n",
       "      <td>True</td>\n",
       "      <td>False</td>\n",
       "      <td>False</td>\n",
       "      <td>False</td>\n",
       "      <td>False</td>\n",
       "      <td>False</td>\n",
       "    </tr>\n",
       "    <tr>\n",
       "      <th>3</th>\n",
       "      <td>False</td>\n",
       "      <td>False</td>\n",
       "      <td>True</td>\n",
       "      <td>False</td>\n",
       "      <td>False</td>\n",
       "      <td>False</td>\n",
       "      <td>False</td>\n",
       "      <td>False</td>\n",
       "    </tr>\n",
       "    <tr>\n",
       "      <th>4</th>\n",
       "      <td>False</td>\n",
       "      <td>False</td>\n",
       "      <td>True</td>\n",
       "      <td>False</td>\n",
       "      <td>False</td>\n",
       "      <td>False</td>\n",
       "      <td>False</td>\n",
       "      <td>False</td>\n",
       "    </tr>\n",
       "    <tr>\n",
       "      <th>5</th>\n",
       "      <td>False</td>\n",
       "      <td>False</td>\n",
       "      <td>True</td>\n",
       "      <td>False</td>\n",
       "      <td>False</td>\n",
       "      <td>False</td>\n",
       "      <td>False</td>\n",
       "      <td>False</td>\n",
       "    </tr>\n",
       "    <tr>\n",
       "      <th>6</th>\n",
       "      <td>False</td>\n",
       "      <td>False</td>\n",
       "      <td>True</td>\n",
       "      <td>False</td>\n",
       "      <td>False</td>\n",
       "      <td>False</td>\n",
       "      <td>False</td>\n",
       "      <td>False</td>\n",
       "    </tr>\n",
       "    <tr>\n",
       "      <th>7</th>\n",
       "      <td>False</td>\n",
       "      <td>False</td>\n",
       "      <td>True</td>\n",
       "      <td>False</td>\n",
       "      <td>False</td>\n",
       "      <td>False</td>\n",
       "      <td>False</td>\n",
       "      <td>False</td>\n",
       "    </tr>\n",
       "    <tr>\n",
       "      <th>8</th>\n",
       "      <td>False</td>\n",
       "      <td>False</td>\n",
       "      <td>True</td>\n",
       "      <td>False</td>\n",
       "      <td>False</td>\n",
       "      <td>False</td>\n",
       "      <td>False</td>\n",
       "      <td>False</td>\n",
       "    </tr>\n",
       "    <tr>\n",
       "      <th>9</th>\n",
       "      <td>False</td>\n",
       "      <td>False</td>\n",
       "      <td>True</td>\n",
       "      <td>False</td>\n",
       "      <td>False</td>\n",
       "      <td>False</td>\n",
       "      <td>False</td>\n",
       "      <td>False</td>\n",
       "    </tr>\n",
       "  </tbody>\n",
       "</table>\n",
       "</div>"
      ],
      "text/plain": [
       "   Region  Country  State   City  Month    Day   Year  AvgTemperature\n",
       "0   False    False   True  False  False  False  False           False\n",
       "1   False    False   True  False  False  False  False           False\n",
       "2   False    False   True  False  False  False  False           False\n",
       "3   False    False   True  False  False  False  False           False\n",
       "4   False    False   True  False  False  False  False           False\n",
       "5   False    False   True  False  False  False  False           False\n",
       "6   False    False   True  False  False  False  False           False\n",
       "7   False    False   True  False  False  False  False           False\n",
       "8   False    False   True  False  False  False  False           False\n",
       "9   False    False   True  False  False  False  False           False"
      ]
     },
     "execution_count": 7,
     "metadata": {},
     "output_type": "execute_result"
    }
   ],
   "source": [
    "valoresperdidos=dfcity_temperature.isnull()\n",
    "valoresperdidos.head(10)"
   ]
  },
  {
   "cell_type": "code",
   "execution_count": 8,
   "id": "ba4069dd",
   "metadata": {},
   "outputs": [
    {
     "name": "stdout",
     "output_type": "stream",
     "text": [
      "Region\n",
      "False    2906327\n",
      "Name: Region, dtype: int64\n",
      " \n",
      "Country\n",
      "False    2906327\n",
      "Name: Country, dtype: int64\n",
      " \n",
      "State\n",
      "False    1455337\n",
      "True     1450990\n",
      "Name: State, dtype: int64\n",
      " \n",
      "City\n",
      "False    2906327\n",
      "Name: City, dtype: int64\n",
      " \n",
      "Month\n",
      "False    2906327\n",
      "Name: Month, dtype: int64\n",
      " \n",
      "Day\n",
      "False    2906327\n",
      "Name: Day, dtype: int64\n",
      " \n",
      "Year\n",
      "False    2906327\n",
      "Name: Year, dtype: int64\n",
      " \n",
      "AvgTemperature\n",
      "False    2906327\n",
      "Name: AvgTemperature, dtype: int64\n",
      " \n"
     ]
    }
   ],
   "source": [
    "for column in valoresperdidos.columns.values.tolist():\n",
    "    print(column)\n",
    "    print(valoresperdidos[column].value_counts())\n",
    "    print(\" \")"
   ]
  },
  {
   "cell_type": "markdown",
   "id": "55a09cb3",
   "metadata": {},
   "source": [
    "<h3 Style=\"color:#C70039 \"> 2.3.Imputar valores String con el mas frecuente </h3>"
   ]
  },
  {
   "cell_type": "code",
   "execution_count": 9,
   "id": "fcca34b2",
   "metadata": {},
   "outputs": [
    {
     "data": {
      "text/plain": [
       "'Texas'"
      ]
     },
     "execution_count": 9,
     "metadata": {},
     "output_type": "execute_result"
    }
   ],
   "source": [
    "dfcity_temperature[\"State\"].value_counts().idxmax()"
   ]
  },
  {
   "cell_type": "code",
   "execution_count": 10,
   "id": "ec7dca25",
   "metadata": {},
   "outputs": [
    {
     "data": {
      "text/html": [
       "<div>\n",
       "<style scoped>\n",
       "    .dataframe tbody tr th:only-of-type {\n",
       "        vertical-align: middle;\n",
       "    }\n",
       "\n",
       "    .dataframe tbody tr th {\n",
       "        vertical-align: top;\n",
       "    }\n",
       "\n",
       "    .dataframe thead th {\n",
       "        text-align: right;\n",
       "    }\n",
       "</style>\n",
       "<table border=\"1\" class=\"dataframe\">\n",
       "  <thead>\n",
       "    <tr style=\"text-align: right;\">\n",
       "      <th></th>\n",
       "      <th>Region</th>\n",
       "      <th>Country</th>\n",
       "      <th>State</th>\n",
       "      <th>City</th>\n",
       "      <th>Month</th>\n",
       "      <th>Day</th>\n",
       "      <th>Year</th>\n",
       "      <th>AvgTemperature</th>\n",
       "    </tr>\n",
       "  </thead>\n",
       "  <tbody>\n",
       "    <tr>\n",
       "      <th>0</th>\n",
       "      <td>Africa</td>\n",
       "      <td>Algeria</td>\n",
       "      <td>Texas</td>\n",
       "      <td>Algiers</td>\n",
       "      <td>1</td>\n",
       "      <td>1</td>\n",
       "      <td>1995</td>\n",
       "      <td>64.2</td>\n",
       "    </tr>\n",
       "    <tr>\n",
       "      <th>1</th>\n",
       "      <td>Africa</td>\n",
       "      <td>Algeria</td>\n",
       "      <td>Texas</td>\n",
       "      <td>Algiers</td>\n",
       "      <td>1</td>\n",
       "      <td>2</td>\n",
       "      <td>1995</td>\n",
       "      <td>49.4</td>\n",
       "    </tr>\n",
       "    <tr>\n",
       "      <th>2</th>\n",
       "      <td>Africa</td>\n",
       "      <td>Algeria</td>\n",
       "      <td>Texas</td>\n",
       "      <td>Algiers</td>\n",
       "      <td>1</td>\n",
       "      <td>3</td>\n",
       "      <td>1995</td>\n",
       "      <td>48.8</td>\n",
       "    </tr>\n",
       "    <tr>\n",
       "      <th>3</th>\n",
       "      <td>Africa</td>\n",
       "      <td>Algeria</td>\n",
       "      <td>Texas</td>\n",
       "      <td>Algiers</td>\n",
       "      <td>1</td>\n",
       "      <td>4</td>\n",
       "      <td>1995</td>\n",
       "      <td>46.4</td>\n",
       "    </tr>\n",
       "    <tr>\n",
       "      <th>4</th>\n",
       "      <td>Africa</td>\n",
       "      <td>Algeria</td>\n",
       "      <td>Texas</td>\n",
       "      <td>Algiers</td>\n",
       "      <td>1</td>\n",
       "      <td>5</td>\n",
       "      <td>1995</td>\n",
       "      <td>47.9</td>\n",
       "    </tr>\n",
       "  </tbody>\n",
       "</table>\n",
       "</div>"
      ],
      "text/plain": [
       "   Region  Country  State     City  Month  Day  Year  AvgTemperature\n",
       "0  Africa  Algeria  Texas  Algiers      1    1  1995            64.2\n",
       "1  Africa  Algeria  Texas  Algiers      1    2  1995            49.4\n",
       "2  Africa  Algeria  Texas  Algiers      1    3  1995            48.8\n",
       "3  Africa  Algeria  Texas  Algiers      1    4  1995            46.4\n",
       "4  Africa  Algeria  Texas  Algiers      1    5  1995            47.9"
      ]
     },
     "execution_count": 10,
     "metadata": {},
     "output_type": "execute_result"
    }
   ],
   "source": [
    "dfcity_temperature[\"State\"].replace(np.nan,\"Texas\",inplace=True)\n",
    "dfcity_temperature.head()"
   ]
  },
  {
   "cell_type": "code",
   "execution_count": 11,
   "id": "80faa650",
   "metadata": {},
   "outputs": [
    {
     "name": "stdout",
     "output_type": "stream",
     "text": [
      "Region\n",
      "False    2906327\n",
      "Name: Region, dtype: int64\n",
      " \n",
      "Country\n",
      "False    2906327\n",
      "Name: Country, dtype: int64\n",
      " \n",
      "State\n",
      "False    2906327\n",
      "Name: State, dtype: int64\n",
      " \n",
      "City\n",
      "False    2906327\n",
      "Name: City, dtype: int64\n",
      " \n",
      "Month\n",
      "False    2906327\n",
      "Name: Month, dtype: int64\n",
      " \n",
      "Day\n",
      "False    2906327\n",
      "Name: Day, dtype: int64\n",
      " \n",
      "Year\n",
      "False    2906327\n",
      "Name: Year, dtype: int64\n",
      " \n",
      "AvgTemperature\n",
      "False    2906327\n",
      "Name: AvgTemperature, dtype: int64\n",
      " \n"
     ]
    }
   ],
   "source": [
    "valoresperdidos=dfcity_temperature.isnull()\n",
    "for column in valoresperdidos.columns.values.tolist():\n",
    "    print(column)\n",
    "    print(valoresperdidos[column].value_counts())\n",
    "    print(\" \")\n"
   ]
  },
  {
   "cell_type": "markdown",
   "id": "1730e34a",
   "metadata": {},
   "source": [
    "<h3 style=\"color:#C70039 \">2.3.Imputar valores numericos con la media</h3>"
   ]
  },
  {
   "cell_type": "code",
   "execution_count": 12,
   "id": "0d417da6",
   "metadata": {},
   "outputs": [
    {
     "data": {
      "text/plain": [
       "58178    Africa\n",
       "58179    Africa\n",
       "58180    Africa\n",
       "58181    Africa\n",
       "58182    Africa\n",
       "Name: Region, dtype: object"
      ]
     },
     "execution_count": 12,
     "metadata": {},
     "output_type": "execute_result"
    }
   ],
   "source": [
    "yearless=dfcity_temperature.loc[dfcity_temperature[\"Year\"]<1000,\"Region\"] # Comprobacion de fechas menores al año mil\n",
    "yearless.head()"
   ]
  },
  {
   "cell_type": "code",
   "execution_count": 13,
   "id": "92b61dc2",
   "metadata": {},
   "outputs": [],
   "source": [
    "dfcity_temperature[\"Year\"] = np.where(dfcity_temperature[\"Year\"]< 1000, 2006, dfcity_temperature[\"Year\"])#Reemplazar valores con la media"
   ]
  },
  {
   "cell_type": "code",
   "execution_count": 14,
   "id": "e542b8e8",
   "metadata": {},
   "outputs": [
    {
     "data": {
      "text/plain": [
       "Series([], Name: Region, dtype: object)"
      ]
     },
     "execution_count": 14,
     "metadata": {},
     "output_type": "execute_result"
    }
   ],
   "source": [
    "yearless=dfcity_temperature.loc[dfcity_temperature[\"Year\"]<1000,\"Region\"] #Segunda revision de fechas\n",
    "yearless.head()"
   ]
  },
  {
   "cell_type": "code",
   "execution_count": 15,
   "id": "d51650a1",
   "metadata": {},
   "outputs": [
    {
     "data": {
      "text/plain": [
       "Series([], Name: Region, dtype: object)"
      ]
     },
     "execution_count": 15,
     "metadata": {},
     "output_type": "execute_result"
    }
   ],
   "source": [
    "yearless=dfcity_temperature.loc[dfcity_temperature[\"Year\"]>2021,\"Region\"] # Comporbacion de años mayores al 2021\n",
    "yearless.head()"
   ]
  },
  {
   "cell_type": "code",
   "execution_count": 16,
   "id": "dab9c980",
   "metadata": {},
   "outputs": [
    {
     "data": {
      "text/plain": [
       "Series([], Name: Region, dtype: object)"
      ]
     },
     "execution_count": 16,
     "metadata": {},
     "output_type": "execute_result"
    }
   ],
   "source": [
    "yearless=dfcity_temperature.loc[dfcity_temperature[\"Month\"]<0,\"Region\"] # Comporbacion de meses menores a 0\n",
    "yearless.head()"
   ]
  },
  {
   "cell_type": "code",
   "execution_count": 17,
   "id": "5695285c",
   "metadata": {},
   "outputs": [
    {
     "data": {
      "text/plain": [
       "Series([], Name: Region, dtype: object)"
      ]
     },
     "execution_count": 17,
     "metadata": {},
     "output_type": "execute_result"
    }
   ],
   "source": [
    "yearless=dfcity_temperature.loc[dfcity_temperature[\"Month\"]>12,\"Region\"]# Comprobacion de meses mayores a 12\n",
    "yearless.head()"
   ]
  },
  {
   "cell_type": "code",
   "execution_count": 18,
   "id": "28ad3b5f",
   "metadata": {},
   "outputs": [
    {
     "data": {
      "text/plain": [
       "Series([], Name: Region, dtype: object)"
      ]
     },
     "execution_count": 18,
     "metadata": {},
     "output_type": "execute_result"
    }
   ],
   "source": [
    "yearless=dfcity_temperature.loc[dfcity_temperature[\"Day\"]<0,\"Region\"] #Comprobacion de dias menores a 0\n",
    "yearless.head()"
   ]
  },
  {
   "cell_type": "code",
   "execution_count": 19,
   "id": "ad600d90",
   "metadata": {},
   "outputs": [
    {
     "data": {
      "text/plain": [
       "Series([], Name: Region, dtype: object)"
      ]
     },
     "execution_count": 19,
     "metadata": {},
     "output_type": "execute_result"
    }
   ],
   "source": [
    "yearless=dfcity_temperature.loc[dfcity_temperature[\"Day\"]>31,\"Region\"]# Comprobacion de dias mayores 31\n",
    "yearless.head()"
   ]
  },
  {
   "cell_type": "code",
   "execution_count": 20,
   "id": "0c857250",
   "metadata": {},
   "outputs": [
    {
     "data": {
      "text/plain": [
       "Series([], Name: AvgTemperature, dtype: float64)"
      ]
     },
     "execution_count": 20,
     "metadata": {},
     "output_type": "execute_result"
    }
   ],
   "source": [
    "yearless=dfcity_temperature.loc[dfcity_temperature[\"AvgTemperature\"]<-99,\"AvgTemperature\"] # Comprobacion de Temperatura menor a -99\n",
    "yearless.head()"
   ]
  },
  {
   "cell_type": "code",
   "execution_count": 21,
   "id": "463c2008",
   "metadata": {},
   "outputs": [
    {
     "name": "stdout",
     "output_type": "stream",
     "text": [
      "La media de AvgTemperature es: 56.004920781458054\n"
     ]
    }
   ],
   "source": [
    "avg_norm=dfcity_temperature[\"AvgTemperature\"].astype(\"float\").mean(axis=0)\n",
    "print(\"La media de AvgTemperature es:\", avg_norm)"
   ]
  },
  {
   "cell_type": "code",
   "execution_count": 22,
   "id": "c1025c80",
   "metadata": {},
   "outputs": [],
   "source": [
    "dfcity_temperature.replace(-99,56.00,inplace=True) # El set de datos nos indica que -99 son valores nulos"
   ]
  },
  {
   "cell_type": "code",
   "execution_count": 23,
   "id": "be1e9f85",
   "metadata": {},
   "outputs": [
    {
     "data": {
      "text/plain": [
       "Series([], Name: AvgTemperature, dtype: float64)"
      ]
     },
     "execution_count": 23,
     "metadata": {},
     "output_type": "execute_result"
    }
   ],
   "source": [
    "yearless=dfcity_temperature.loc[dfcity_temperature[\"AvgTemperature\"]<-99,\"AvgTemperature\"] #Temperatura menor a -99. Revision\n",
    "yearless.head()"
   ]
  },
  {
   "cell_type": "code",
   "execution_count": 24,
   "id": "504b13a1",
   "metadata": {},
   "outputs": [
    {
     "data": {
      "text/plain": [
       "Series([], Name: AvgTemperature, dtype: float64)"
      ]
     },
     "execution_count": 24,
     "metadata": {},
     "output_type": "execute_result"
    }
   ],
   "source": [
    "yearless=dfcity_temperature.loc[dfcity_temperature[\"AvgTemperature\"]>200,\"AvgTemperature\"] #Comporbacion de Temperatura mayor a 200\n",
    "yearless.head()"
   ]
  },
  {
   "cell_type": "markdown",
   "id": "2ff2144c",
   "metadata": {},
   "source": [
    "<h3 style=\"color:#C70039 \"> 3.Estandarizacion de los datos </h3>\n",
    "\n",
    "<p> Que se hace en este apartado? </p>\n",
    "\n",
    "<ol>\n",
    "    <li> Se verifica el dominio de la variable y se ajusta si es necesario </li>\n",
    "    <li> Se convierten los valores en funcion de su interpretaciom </li>\n",
    "    <li> Se normalian los datos para que los valores distintos queden entre 0 y 1 </li>\n",
    "    <li> Binning </li>\n",
    "</ol>"
   ]
  },
  {
   "cell_type": "markdown",
   "id": "6242858f",
   "metadata": {},
   "source": [
    "<h3 style=\"color:#C70039 \"> 3.Verificacion del dominio de variables </h3>"
   ]
  },
  {
   "cell_type": "code",
   "execution_count": 25,
   "id": "0170a1cf",
   "metadata": {},
   "outputs": [
    {
     "data": {
      "text/html": [
       "<div>\n",
       "<style scoped>\n",
       "    .dataframe tbody tr th:only-of-type {\n",
       "        vertical-align: middle;\n",
       "    }\n",
       "\n",
       "    .dataframe tbody tr th {\n",
       "        vertical-align: top;\n",
       "    }\n",
       "\n",
       "    .dataframe thead th {\n",
       "        text-align: right;\n",
       "    }\n",
       "</style>\n",
       "<table border=\"1\" class=\"dataframe\">\n",
       "  <thead>\n",
       "    <tr style=\"text-align: right;\">\n",
       "      <th></th>\n",
       "      <th>Region</th>\n",
       "      <th>Country</th>\n",
       "      <th>State</th>\n",
       "      <th>City</th>\n",
       "      <th>Month</th>\n",
       "      <th>Day</th>\n",
       "      <th>Year</th>\n",
       "      <th>AvgTemperature</th>\n",
       "    </tr>\n",
       "  </thead>\n",
       "  <tbody>\n",
       "    <tr>\n",
       "      <th>0</th>\n",
       "      <td>Africa</td>\n",
       "      <td>Algeria</td>\n",
       "      <td>Texas</td>\n",
       "      <td>Algiers</td>\n",
       "      <td>1</td>\n",
       "      <td>1</td>\n",
       "      <td>1995</td>\n",
       "      <td>64.2</td>\n",
       "    </tr>\n",
       "    <tr>\n",
       "      <th>1</th>\n",
       "      <td>Africa</td>\n",
       "      <td>Algeria</td>\n",
       "      <td>Texas</td>\n",
       "      <td>Algiers</td>\n",
       "      <td>1</td>\n",
       "      <td>2</td>\n",
       "      <td>1995</td>\n",
       "      <td>49.4</td>\n",
       "    </tr>\n",
       "    <tr>\n",
       "      <th>2</th>\n",
       "      <td>Africa</td>\n",
       "      <td>Algeria</td>\n",
       "      <td>Texas</td>\n",
       "      <td>Algiers</td>\n",
       "      <td>1</td>\n",
       "      <td>3</td>\n",
       "      <td>1995</td>\n",
       "      <td>48.8</td>\n",
       "    </tr>\n",
       "    <tr>\n",
       "      <th>3</th>\n",
       "      <td>Africa</td>\n",
       "      <td>Algeria</td>\n",
       "      <td>Texas</td>\n",
       "      <td>Algiers</td>\n",
       "      <td>1</td>\n",
       "      <td>4</td>\n",
       "      <td>1995</td>\n",
       "      <td>46.4</td>\n",
       "    </tr>\n",
       "    <tr>\n",
       "      <th>4</th>\n",
       "      <td>Africa</td>\n",
       "      <td>Algeria</td>\n",
       "      <td>Texas</td>\n",
       "      <td>Algiers</td>\n",
       "      <td>1</td>\n",
       "      <td>5</td>\n",
       "      <td>1995</td>\n",
       "      <td>47.9</td>\n",
       "    </tr>\n",
       "  </tbody>\n",
       "</table>\n",
       "</div>"
      ],
      "text/plain": [
       "   Region  Country  State     City  Month  Day  Year  AvgTemperature\n",
       "0  Africa  Algeria  Texas  Algiers      1    1  1995            64.2\n",
       "1  Africa  Algeria  Texas  Algiers      1    2  1995            49.4\n",
       "2  Africa  Algeria  Texas  Algiers      1    3  1995            48.8\n",
       "3  Africa  Algeria  Texas  Algiers      1    4  1995            46.4\n",
       "4  Africa  Algeria  Texas  Algiers      1    5  1995            47.9"
      ]
     },
     "execution_count": 25,
     "metadata": {},
     "output_type": "execute_result"
    }
   ],
   "source": [
    "dfcity_temperature.head()"
   ]
  },
  {
   "cell_type": "code",
   "execution_count": 26,
   "id": "e6d06e3b",
   "metadata": {},
   "outputs": [
    {
     "data": {
      "text/plain": [
       "Region             object\n",
       "Country            object\n",
       "State              object\n",
       "City               object\n",
       "Month               int64\n",
       "Day                 int64\n",
       "Year                int64\n",
       "AvgTemperature    float64\n",
       "dtype: object"
      ]
     },
     "execution_count": 26,
     "metadata": {},
     "output_type": "execute_result"
    }
   ],
   "source": [
    "dfcity_temperature.dtypes"
   ]
  },
  {
   "cell_type": "code",
   "execution_count": 27,
   "id": "3066c6ab",
   "metadata": {},
   "outputs": [],
   "source": [
    "dfcity_temperature[[\"AvgTemperature\"]]=dfcity_temperature[[\"AvgTemperature\"]].astype(\"float\")"
   ]
  },
  {
   "cell_type": "code",
   "execution_count": 28,
   "id": "49a95b55",
   "metadata": {},
   "outputs": [],
   "source": [
    "dfcity_temperature[[\"Month\",\"Day\",\"Year\"]]=dfcity_temperature[[\"Month\",\"Day\",\"Year\"]].astype(\"int\")"
   ]
  },
  {
   "cell_type": "code",
   "execution_count": 29,
   "id": "a00a0f50",
   "metadata": {},
   "outputs": [
    {
     "data": {
      "text/plain": [
       "Region             object\n",
       "Country            object\n",
       "State              object\n",
       "City               object\n",
       "Month               int32\n",
       "Day                 int32\n",
       "Year                int32\n",
       "AvgTemperature    float64\n",
       "dtype: object"
      ]
     },
     "execution_count": 29,
     "metadata": {},
     "output_type": "execute_result"
    }
   ],
   "source": [
    "dfcity_temperature.dtypes"
   ]
  },
  {
   "cell_type": "markdown",
   "id": "d3e6a000",
   "metadata": {},
   "source": [
    "<h3 style=\"color:#C70039 \"> 3.2. Estandarizacion de los valores </h3>"
   ]
  },
  {
   "cell_type": "code",
   "execution_count": 30,
   "id": "75a1adde",
   "metadata": {},
   "outputs": [
    {
     "data": {
      "text/html": [
       "<div>\n",
       "<style scoped>\n",
       "    .dataframe tbody tr th:only-of-type {\n",
       "        vertical-align: middle;\n",
       "    }\n",
       "\n",
       "    .dataframe tbody tr th {\n",
       "        vertical-align: top;\n",
       "    }\n",
       "\n",
       "    .dataframe thead th {\n",
       "        text-align: right;\n",
       "    }\n",
       "</style>\n",
       "<table border=\"1\" class=\"dataframe\">\n",
       "  <thead>\n",
       "    <tr style=\"text-align: right;\">\n",
       "      <th></th>\n",
       "      <th>Region</th>\n",
       "      <th>Country</th>\n",
       "      <th>State</th>\n",
       "      <th>City</th>\n",
       "      <th>Month</th>\n",
       "      <th>Day</th>\n",
       "      <th>Year</th>\n",
       "      <th>AvgTemperature</th>\n",
       "    </tr>\n",
       "  </thead>\n",
       "  <tbody>\n",
       "    <tr>\n",
       "      <th>0</th>\n",
       "      <td>Africa</td>\n",
       "      <td>Algeria</td>\n",
       "      <td>Texas</td>\n",
       "      <td>Algiers</td>\n",
       "      <td>1</td>\n",
       "      <td>1</td>\n",
       "      <td>1995</td>\n",
       "      <td>64.2</td>\n",
       "    </tr>\n",
       "    <tr>\n",
       "      <th>1</th>\n",
       "      <td>Africa</td>\n",
       "      <td>Algeria</td>\n",
       "      <td>Texas</td>\n",
       "      <td>Algiers</td>\n",
       "      <td>1</td>\n",
       "      <td>2</td>\n",
       "      <td>1995</td>\n",
       "      <td>49.4</td>\n",
       "    </tr>\n",
       "    <tr>\n",
       "      <th>2</th>\n",
       "      <td>Africa</td>\n",
       "      <td>Algeria</td>\n",
       "      <td>Texas</td>\n",
       "      <td>Algiers</td>\n",
       "      <td>1</td>\n",
       "      <td>3</td>\n",
       "      <td>1995</td>\n",
       "      <td>48.8</td>\n",
       "    </tr>\n",
       "    <tr>\n",
       "      <th>3</th>\n",
       "      <td>Africa</td>\n",
       "      <td>Algeria</td>\n",
       "      <td>Texas</td>\n",
       "      <td>Algiers</td>\n",
       "      <td>1</td>\n",
       "      <td>4</td>\n",
       "      <td>1995</td>\n",
       "      <td>46.4</td>\n",
       "    </tr>\n",
       "    <tr>\n",
       "      <th>4</th>\n",
       "      <td>Africa</td>\n",
       "      <td>Algeria</td>\n",
       "      <td>Texas</td>\n",
       "      <td>Algiers</td>\n",
       "      <td>1</td>\n",
       "      <td>5</td>\n",
       "      <td>1995</td>\n",
       "      <td>47.9</td>\n",
       "    </tr>\n",
       "  </tbody>\n",
       "</table>\n",
       "</div>"
      ],
      "text/plain": [
       "   Region  Country  State     City  Month  Day  Year  AvgTemperature\n",
       "0  Africa  Algeria  Texas  Algiers      1    1  1995            64.2\n",
       "1  Africa  Algeria  Texas  Algiers      1    2  1995            49.4\n",
       "2  Africa  Algeria  Texas  Algiers      1    3  1995            48.8\n",
       "3  Africa  Algeria  Texas  Algiers      1    4  1995            46.4\n",
       "4  Africa  Algeria  Texas  Algiers      1    5  1995            47.9"
      ]
     },
     "execution_count": 30,
     "metadata": {},
     "output_type": "execute_result"
    }
   ],
   "source": [
    "dfcity_temperature.head()"
   ]
  },
  {
   "cell_type": "code",
   "execution_count": 31,
   "id": "3bc8139d",
   "metadata": {},
   "outputs": [],
   "source": [
    "dfcity_temperature[\"Gradoscelsius\"]=(dfcity_temperature[\"AvgTemperature\"]-32)*5/9 #En este caso se crea la columna de grados celsius"
   ]
  },
  {
   "cell_type": "code",
   "execution_count": 32,
   "id": "fc65cfa0",
   "metadata": {},
   "outputs": [
    {
     "data": {
      "text/html": [
       "<div>\n",
       "<style scoped>\n",
       "    .dataframe tbody tr th:only-of-type {\n",
       "        vertical-align: middle;\n",
       "    }\n",
       "\n",
       "    .dataframe tbody tr th {\n",
       "        vertical-align: top;\n",
       "    }\n",
       "\n",
       "    .dataframe thead th {\n",
       "        text-align: right;\n",
       "    }\n",
       "</style>\n",
       "<table border=\"1\" class=\"dataframe\">\n",
       "  <thead>\n",
       "    <tr style=\"text-align: right;\">\n",
       "      <th></th>\n",
       "      <th>Region</th>\n",
       "      <th>Country</th>\n",
       "      <th>State</th>\n",
       "      <th>City</th>\n",
       "      <th>Month</th>\n",
       "      <th>Day</th>\n",
       "      <th>Year</th>\n",
       "      <th>AvgTemperature</th>\n",
       "      <th>Gradoscelsius</th>\n",
       "    </tr>\n",
       "  </thead>\n",
       "  <tbody>\n",
       "    <tr>\n",
       "      <th>0</th>\n",
       "      <td>Africa</td>\n",
       "      <td>Algeria</td>\n",
       "      <td>Texas</td>\n",
       "      <td>Algiers</td>\n",
       "      <td>1</td>\n",
       "      <td>1</td>\n",
       "      <td>1995</td>\n",
       "      <td>64.2</td>\n",
       "      <td>17.888889</td>\n",
       "    </tr>\n",
       "    <tr>\n",
       "      <th>1</th>\n",
       "      <td>Africa</td>\n",
       "      <td>Algeria</td>\n",
       "      <td>Texas</td>\n",
       "      <td>Algiers</td>\n",
       "      <td>1</td>\n",
       "      <td>2</td>\n",
       "      <td>1995</td>\n",
       "      <td>49.4</td>\n",
       "      <td>9.666667</td>\n",
       "    </tr>\n",
       "    <tr>\n",
       "      <th>2</th>\n",
       "      <td>Africa</td>\n",
       "      <td>Algeria</td>\n",
       "      <td>Texas</td>\n",
       "      <td>Algiers</td>\n",
       "      <td>1</td>\n",
       "      <td>3</td>\n",
       "      <td>1995</td>\n",
       "      <td>48.8</td>\n",
       "      <td>9.333333</td>\n",
       "    </tr>\n",
       "    <tr>\n",
       "      <th>3</th>\n",
       "      <td>Africa</td>\n",
       "      <td>Algeria</td>\n",
       "      <td>Texas</td>\n",
       "      <td>Algiers</td>\n",
       "      <td>1</td>\n",
       "      <td>4</td>\n",
       "      <td>1995</td>\n",
       "      <td>46.4</td>\n",
       "      <td>8.000000</td>\n",
       "    </tr>\n",
       "    <tr>\n",
       "      <th>4</th>\n",
       "      <td>Africa</td>\n",
       "      <td>Algeria</td>\n",
       "      <td>Texas</td>\n",
       "      <td>Algiers</td>\n",
       "      <td>1</td>\n",
       "      <td>5</td>\n",
       "      <td>1995</td>\n",
       "      <td>47.9</td>\n",
       "      <td>8.833333</td>\n",
       "    </tr>\n",
       "  </tbody>\n",
       "</table>\n",
       "</div>"
      ],
      "text/plain": [
       "   Region  Country  State     City  Month  Day  Year  AvgTemperature  \\\n",
       "0  Africa  Algeria  Texas  Algiers      1    1  1995            64.2   \n",
       "1  Africa  Algeria  Texas  Algiers      1    2  1995            49.4   \n",
       "2  Africa  Algeria  Texas  Algiers      1    3  1995            48.8   \n",
       "3  Africa  Algeria  Texas  Algiers      1    4  1995            46.4   \n",
       "4  Africa  Algeria  Texas  Algiers      1    5  1995            47.9   \n",
       "\n",
       "   Gradoscelsius  \n",
       "0      17.888889  \n",
       "1       9.666667  \n",
       "2       9.333333  \n",
       "3       8.000000  \n",
       "4       8.833333  "
      ]
     },
     "execution_count": 32,
     "metadata": {},
     "output_type": "execute_result"
    }
   ],
   "source": [
    "dfcity_temperature.head()"
   ]
  },
  {
   "cell_type": "markdown",
   "id": "96456e97",
   "metadata": {},
   "source": [
    "<h3 style=\"color:#C70039 \"> 3.3. Binning </h3>"
   ]
  },
  {
   "cell_type": "code",
   "execution_count": 33,
   "id": "3fff5bf9",
   "metadata": {},
   "outputs": [
    {
     "data": {
      "text/plain": [
       "Region\n",
       "Africa                                 251,118\n",
       "Asia                                   316,663\n",
       "Australia/South Pacific                 55,596\n",
       "Europe                                 381,990\n",
       "Middle East                            124,749\n",
       "North America                        1,556,681\n",
       "South/Central America & Carribean      219,530\n",
       "Name: Gradoscelsius, dtype: object"
      ]
     },
     "execution_count": 33,
     "metadata": {},
     "output_type": "execute_result"
    }
   ],
   "source": [
    "gregion=dfcity_temperature.groupby([\"Region\"]).count()\n",
    "gregion=gregion.iloc[:,7:8]\n",
    "gregion[\"Gradoscelsius\"].map(lambda x:format(x,','))"
   ]
  },
  {
   "cell_type": "markdown",
   "id": "64176945",
   "metadata": {},
   "source": [
    "<h3 style=\"color:#C70039 \"> 4. Visualizacion de datos </h3>\n",
    "<p> En este aparatdo se van crear diferentes graficos, los cuales nos ayudaran a realizar la interpretacion y analis de la informacion </p>\n",
    "\n",
    "<ol>\n",
    "    <li> Puntualmente se va a buscar respuestas a las preguntas de negocio que motivan el proyecto </li>\n",
    "    <li> Disponer de conocimiento pleno del set de datos </li>\n",
    "    <li> Experiencia del negocio </li>\n",
    "</ol>"
   ]
  },
  {
   "cell_type": "markdown",
   "id": "59a9bb02",
   "metadata": {},
   "source": [
    "<h3 style=\"color:#C70039 \">Cual es la cantidad de muestras de temperaturas tomadas por Region? </h3>"
   ]
  },
  {
   "cell_type": "code",
   "execution_count": 34,
   "id": "683414d0",
   "metadata": {},
   "outputs": [
    {
     "data": {
      "image/png": "[encoded data removed]",
      "text/plain": [
       "<Figure size 432x288 with 1 Axes>"
      ]
     },
     "metadata": {
      "needs_background": "light"
     },
     "output_type": "display_data"
    },
    {
     "data": {
      "text/plain": [
       "<Figure size 2160x3600 with 0 Axes>"
      ]
     },
     "metadata": {},
     "output_type": "display_data"
    }
   ],
   "source": [
    "eje_x=(\"Africa\",\"Asia\",\"Australia/South Pacific\",\"Europe\",\"Middle East\",\"North America\",\"South/Central America & Carribean\")\n",
    "eje_y=gregion[\"Gradoscelsius\"].tolist()\n",
    "\n",
    "#Creamos el grafico de barras\n",
    "plt.barh(eje_x,eje_y)\n",
    "\n",
    "# Colocamos etiqueta eje y\n",
    "plt.ylabel(\"Cantidad de muestras por region\")\n",
    "\n",
    "# Colocamos etiqueta eje x\n",
    "plt.xlabel(\"Region\")\n",
    "\n",
    "#Colocamos el tiutlo del grafico\n",
    "plt.title(\"Cantidad total de muestras por Region\")\n",
    "\n",
    "plt.figure(figsize=[30, 50])\n",
    "\n",
    "\n",
    "#Finalmente mostramos la grafica\n",
    "plt.show()"
   ]
  },
  {
   "cell_type": "markdown",
   "id": "80b1f45d",
   "metadata": {},
   "source": [
    "<p> <big><i>De acuerdo al grafico anterior se observa que North America posee un total de <u> 1,556,681 </u> en contraste de Australia con<u> 55,596 </u> muestras</i> </big> </p> "
   ]
  },
  {
   "cell_type": "markdown",
   "id": "76841a0e",
   "metadata": {},
   "source": [
    "<h3 style=\"color:#C70039 \"> Cual es la cuidad que presenta las temperaturas mas elevadas y la cuidad con las temperaturas mas bajas? </h3>"
   ]
  },
  {
   "cell_type": "code",
   "execution_count": 35,
   "id": "d21e7337",
   "metadata": {},
   "outputs": [
    {
     "data": {
      "text/plain": [
       "Region            South/Central America & Carribean\n",
       "Country                                      Zambia\n",
       "State                                       Wyoming\n",
       "City                                         Zurich\n",
       "Month                                            12\n",
       "Day                                              31\n",
       "Year                                           2020\n",
       "AvgTemperature                                110.0\n",
       "Gradoscelsius                             43.333333\n",
       "dtype: object"
      ]
     },
     "execution_count": 35,
     "metadata": {},
     "output_type": "execute_result"
    }
   ],
   "source": [
    "dfcity_temperature.max()"
   ]
  },
  {
   "cell_type": "code",
   "execution_count": 36,
   "id": "b26bbc69",
   "metadata": {},
   "outputs": [
    {
     "data": {
      "text/plain": [
       "Region                            Africa\n",
       "Country                          Albania\n",
       "State             Additional Territories\n",
       "City                             Abidjan\n",
       "Month                                  1\n",
       "Day                                    0\n",
       "Year                                1995\n",
       "AvgTemperature                     -50.0\n",
       "Gradoscelsius                 -45.555556\n",
       "dtype: object"
      ]
     },
     "execution_count": 36,
     "metadata": {},
     "output_type": "execute_result"
    }
   ],
   "source": [
    "dfcity_temperature.min()"
   ]
  },
  {
   "cell_type": "markdown",
   "id": "bde0a7a3",
   "metadata": {},
   "source": [
    "<p><big><i>Segun las tablas presentadas la mayor temperatura se presento en <b>Zambia</b> con <b>43 grados celsius</b> en el año <b>2020.</b>Y la ciudad de <b>Albania</b> presenta la temperatura mas baja con <b>-45 grados celsius</b> en el año <b>1995</b>. </big></i></p>"
   ]
  },
  {
   "cell_type": "markdown",
   "id": "e08580f6",
   "metadata": {},
   "source": [
    "<h3 style=\"color:#C70039\"> Cual es el promedio de temperaturas en grados celsius por año? </h3>"
   ]
  },
  {
   "cell_type": "code",
   "execution_count": 37,
   "id": "dc67b28f",
   "metadata": {},
   "outputs": [
    {
     "data": {
      "text/html": [
       "<div>\n",
       "<style scoped>\n",
       "    .dataframe tbody tr th:only-of-type {\n",
       "        vertical-align: middle;\n",
       "    }\n",
       "\n",
       "    .dataframe tbody tr th {\n",
       "        vertical-align: top;\n",
       "    }\n",
       "\n",
       "    .dataframe thead th {\n",
       "        text-align: right;\n",
       "    }\n",
       "</style>\n",
       "<table border=\"1\" class=\"dataframe\">\n",
       "  <thead>\n",
       "    <tr style=\"text-align: right;\">\n",
       "      <th></th>\n",
       "      <th>Region</th>\n",
       "      <th>Country</th>\n",
       "      <th>State</th>\n",
       "      <th>City</th>\n",
       "      <th>Month</th>\n",
       "      <th>Day</th>\n",
       "      <th>Year</th>\n",
       "      <th>AvgTemperature</th>\n",
       "      <th>Gradoscelsius</th>\n",
       "    </tr>\n",
       "  </thead>\n",
       "  <tbody>\n",
       "    <tr>\n",
       "      <th>0</th>\n",
       "      <td>Africa</td>\n",
       "      <td>Algeria</td>\n",
       "      <td>Texas</td>\n",
       "      <td>Algiers</td>\n",
       "      <td>1</td>\n",
       "      <td>1</td>\n",
       "      <td>1995</td>\n",
       "      <td>64.2</td>\n",
       "      <td>17.888889</td>\n",
       "    </tr>\n",
       "    <tr>\n",
       "      <th>1</th>\n",
       "      <td>Africa</td>\n",
       "      <td>Algeria</td>\n",
       "      <td>Texas</td>\n",
       "      <td>Algiers</td>\n",
       "      <td>1</td>\n",
       "      <td>2</td>\n",
       "      <td>1995</td>\n",
       "      <td>49.4</td>\n",
       "      <td>9.666667</td>\n",
       "    </tr>\n",
       "    <tr>\n",
       "      <th>2</th>\n",
       "      <td>Africa</td>\n",
       "      <td>Algeria</td>\n",
       "      <td>Texas</td>\n",
       "      <td>Algiers</td>\n",
       "      <td>1</td>\n",
       "      <td>3</td>\n",
       "      <td>1995</td>\n",
       "      <td>48.8</td>\n",
       "      <td>9.333333</td>\n",
       "    </tr>\n",
       "    <tr>\n",
       "      <th>3</th>\n",
       "      <td>Africa</td>\n",
       "      <td>Algeria</td>\n",
       "      <td>Texas</td>\n",
       "      <td>Algiers</td>\n",
       "      <td>1</td>\n",
       "      <td>4</td>\n",
       "      <td>1995</td>\n",
       "      <td>46.4</td>\n",
       "      <td>8.000000</td>\n",
       "    </tr>\n",
       "    <tr>\n",
       "      <th>4</th>\n",
       "      <td>Africa</td>\n",
       "      <td>Algeria</td>\n",
       "      <td>Texas</td>\n",
       "      <td>Algiers</td>\n",
       "      <td>1</td>\n",
       "      <td>5</td>\n",
       "      <td>1995</td>\n",
       "      <td>47.9</td>\n",
       "      <td>8.833333</td>\n",
       "    </tr>\n",
       "  </tbody>\n",
       "</table>\n",
       "</div>"
      ],
      "text/plain": [
       "   Region  Country  State     City  Month  Day  Year  AvgTemperature  \\\n",
       "0  Africa  Algeria  Texas  Algiers      1    1  1995            64.2   \n",
       "1  Africa  Algeria  Texas  Algiers      1    2  1995            49.4   \n",
       "2  Africa  Algeria  Texas  Algiers      1    3  1995            48.8   \n",
       "3  Africa  Algeria  Texas  Algiers      1    4  1995            46.4   \n",
       "4  Africa  Algeria  Texas  Algiers      1    5  1995            47.9   \n",
       "\n",
       "   Gradoscelsius  \n",
       "0      17.888889  \n",
       "1       9.666667  \n",
       "2       9.333333  \n",
       "3       8.000000  \n",
       "4       8.833333  "
      ]
     },
     "execution_count": 37,
     "metadata": {},
     "output_type": "execute_result"
    }
   ],
   "source": [
    "dfcity_temperature.head()"
   ]
  },
  {
   "cell_type": "code",
   "execution_count": 38,
   "id": "bfafe29a",
   "metadata": {},
   "outputs": [
    {
     "data": {
      "text/html": [
       "<div>\n",
       "<style scoped>\n",
       "    .dataframe tbody tr th:only-of-type {\n",
       "        vertical-align: middle;\n",
       "    }\n",
       "\n",
       "    .dataframe tbody tr th {\n",
       "        vertical-align: top;\n",
       "    }\n",
       "\n",
       "    .dataframe thead th {\n",
       "        text-align: right;\n",
       "    }\n",
       "</style>\n",
       "<table border=\"1\" class=\"dataframe\">\n",
       "  <thead>\n",
       "    <tr style=\"text-align: right;\">\n",
       "      <th></th>\n",
       "      <th>Month</th>\n",
       "      <th>Day</th>\n",
       "      <th>AvgTemperature</th>\n",
       "      <th>Gradoscelsius</th>\n",
       "    </tr>\n",
       "    <tr>\n",
       "      <th>Year</th>\n",
       "      <th></th>\n",
       "      <th></th>\n",
       "      <th></th>\n",
       "      <th></th>\n",
       "    </tr>\n",
       "  </thead>\n",
       "  <tbody>\n",
       "    <tr>\n",
       "      <th>1995</th>\n",
       "      <td>6.526447</td>\n",
       "      <td>15.721648</td>\n",
       "      <td>59.235195</td>\n",
       "      <td>15.130664</td>\n",
       "    </tr>\n",
       "    <tr>\n",
       "      <th>1996</th>\n",
       "      <td>6.513615</td>\n",
       "      <td>15.756707</td>\n",
       "      <td>58.535030</td>\n",
       "      <td>14.741683</td>\n",
       "    </tr>\n",
       "    <tr>\n",
       "      <th>1997</th>\n",
       "      <td>6.527458</td>\n",
       "      <td>15.720621</td>\n",
       "      <td>58.982979</td>\n",
       "      <td>14.990544</td>\n",
       "    </tr>\n",
       "    <tr>\n",
       "      <th>1998</th>\n",
       "      <td>6.529484</td>\n",
       "      <td>15.720638</td>\n",
       "      <td>60.544059</td>\n",
       "      <td>15.857810</td>\n",
       "    </tr>\n",
       "    <tr>\n",
       "      <th>1999</th>\n",
       "      <td>6.526027</td>\n",
       "      <td>15.720548</td>\n",
       "      <td>60.111983</td>\n",
       "      <td>15.617768</td>\n",
       "    </tr>\n",
       "    <tr>\n",
       "      <th>2000</th>\n",
       "      <td>6.513661</td>\n",
       "      <td>15.756831</td>\n",
       "      <td>59.528635</td>\n",
       "      <td>15.293686</td>\n",
       "    </tr>\n",
       "    <tr>\n",
       "      <th>2001</th>\n",
       "      <td>6.526027</td>\n",
       "      <td>15.720548</td>\n",
       "      <td>60.178464</td>\n",
       "      <td>15.654702</td>\n",
       "    </tr>\n",
       "    <tr>\n",
       "      <th>2002</th>\n",
       "      <td>6.526027</td>\n",
       "      <td>15.720548</td>\n",
       "      <td>60.051686</td>\n",
       "      <td>15.584270</td>\n",
       "    </tr>\n",
       "    <tr>\n",
       "      <th>2003</th>\n",
       "      <td>6.519011</td>\n",
       "      <td>15.720295</td>\n",
       "      <td>59.835358</td>\n",
       "      <td>15.464088</td>\n",
       "    </tr>\n",
       "    <tr>\n",
       "      <th>2004</th>\n",
       "      <td>6.506224</td>\n",
       "      <td>15.754764</td>\n",
       "      <td>59.953289</td>\n",
       "      <td>15.529605</td>\n",
       "    </tr>\n",
       "    <tr>\n",
       "      <th>2005</th>\n",
       "      <td>6.526027</td>\n",
       "      <td>15.720548</td>\n",
       "      <td>60.404023</td>\n",
       "      <td>15.780013</td>\n",
       "    </tr>\n",
       "    <tr>\n",
       "      <th>2006</th>\n",
       "      <td>6.541973</td>\n",
       "      <td>15.723467</td>\n",
       "      <td>60.859239</td>\n",
       "      <td>16.032911</td>\n",
       "    </tr>\n",
       "    <tr>\n",
       "      <th>2007</th>\n",
       "      <td>6.519163</td>\n",
       "      <td>15.719219</td>\n",
       "      <td>60.659407</td>\n",
       "      <td>15.921893</td>\n",
       "    </tr>\n",
       "    <tr>\n",
       "      <th>2008</th>\n",
       "      <td>6.512932</td>\n",
       "      <td>15.755065</td>\n",
       "      <td>59.799740</td>\n",
       "      <td>15.444300</td>\n",
       "    </tr>\n",
       "    <tr>\n",
       "      <th>2009</th>\n",
       "      <td>6.526097</td>\n",
       "      <td>15.720658</td>\n",
       "      <td>60.057129</td>\n",
       "      <td>15.587294</td>\n",
       "    </tr>\n",
       "    <tr>\n",
       "      <th>2010</th>\n",
       "      <td>6.498629</td>\n",
       "      <td>15.716251</td>\n",
       "      <td>60.563151</td>\n",
       "      <td>15.868417</td>\n",
       "    </tr>\n",
       "    <tr>\n",
       "      <th>2011</th>\n",
       "      <td>6.519712</td>\n",
       "      <td>15.719571</td>\n",
       "      <td>60.664915</td>\n",
       "      <td>15.924953</td>\n",
       "    </tr>\n",
       "    <tr>\n",
       "      <th>2012</th>\n",
       "      <td>6.513639</td>\n",
       "      <td>15.755913</td>\n",
       "      <td>61.364572</td>\n",
       "      <td>16.313651</td>\n",
       "    </tr>\n",
       "    <tr>\n",
       "      <th>2013</th>\n",
       "      <td>6.516551</td>\n",
       "      <td>15.720449</td>\n",
       "      <td>60.049232</td>\n",
       "      <td>15.582907</td>\n",
       "    </tr>\n",
       "    <tr>\n",
       "      <th>2014</th>\n",
       "      <td>6.494927</td>\n",
       "      <td>15.712653</td>\n",
       "      <td>60.134454</td>\n",
       "      <td>15.630252</td>\n",
       "    </tr>\n",
       "    <tr>\n",
       "      <th>2015</th>\n",
       "      <td>6.527266</td>\n",
       "      <td>15.737772</td>\n",
       "      <td>61.633100</td>\n",
       "      <td>16.462833</td>\n",
       "    </tr>\n",
       "    <tr>\n",
       "      <th>2016</th>\n",
       "      <td>6.513619</td>\n",
       "      <td>15.756418</td>\n",
       "      <td>61.986534</td>\n",
       "      <td>16.659186</td>\n",
       "    </tr>\n",
       "    <tr>\n",
       "      <th>2017</th>\n",
       "      <td>6.526079</td>\n",
       "      <td>15.720681</td>\n",
       "      <td>61.712927</td>\n",
       "      <td>16.507182</td>\n",
       "    </tr>\n",
       "    <tr>\n",
       "      <th>2018</th>\n",
       "      <td>6.519672</td>\n",
       "      <td>15.718401</td>\n",
       "      <td>61.184787</td>\n",
       "      <td>16.213771</td>\n",
       "    </tr>\n",
       "    <tr>\n",
       "      <th>2019</th>\n",
       "      <td>6.519678</td>\n",
       "      <td>15.719787</td>\n",
       "      <td>61.036137</td>\n",
       "      <td>16.131187</td>\n",
       "    </tr>\n",
       "    <tr>\n",
       "      <th>2020</th>\n",
       "      <td>2.736099</td>\n",
       "      <td>14.800077</td>\n",
       "      <td>54.047148</td>\n",
       "      <td>12.248415</td>\n",
       "    </tr>\n",
       "  </tbody>\n",
       "</table>\n",
       "</div>"
      ],
      "text/plain": [
       "         Month        Day  AvgTemperature  Gradoscelsius\n",
       "Year                                                    \n",
       "1995  6.526447  15.721648       59.235195      15.130664\n",
       "1996  6.513615  15.756707       58.535030      14.741683\n",
       "1997  6.527458  15.720621       58.982979      14.990544\n",
       "1998  6.529484  15.720638       60.544059      15.857810\n",
       "1999  6.526027  15.720548       60.111983      15.617768\n",
       "2000  6.513661  15.756831       59.528635      15.293686\n",
       "2001  6.526027  15.720548       60.178464      15.654702\n",
       "2002  6.526027  15.720548       60.051686      15.584270\n",
       "2003  6.519011  15.720295       59.835358      15.464088\n",
       "2004  6.506224  15.754764       59.953289      15.529605\n",
       "2005  6.526027  15.720548       60.404023      15.780013\n",
       "2006  6.541973  15.723467       60.859239      16.032911\n",
       "2007  6.519163  15.719219       60.659407      15.921893\n",
       "2008  6.512932  15.755065       59.799740      15.444300\n",
       "2009  6.526097  15.720658       60.057129      15.587294\n",
       "2010  6.498629  15.716251       60.563151      15.868417\n",
       "2011  6.519712  15.719571       60.664915      15.924953\n",
       "2012  6.513639  15.755913       61.364572      16.313651\n",
       "2013  6.516551  15.720449       60.049232      15.582907\n",
       "2014  6.494927  15.712653       60.134454      15.630252\n",
       "2015  6.527266  15.737772       61.633100      16.462833\n",
       "2016  6.513619  15.756418       61.986534      16.659186\n",
       "2017  6.526079  15.720681       61.712927      16.507182\n",
       "2018  6.519672  15.718401       61.184787      16.213771\n",
       "2019  6.519678  15.719787       61.036137      16.131187\n",
       "2020  2.736099  14.800077       54.047148      12.248415"
      ]
     },
     "execution_count": 38,
     "metadata": {},
     "output_type": "execute_result"
    }
   ],
   "source": [
    "yeartemp=dfcity_temperature.groupby(\"Year\").mean()\n",
    "yeartemp"
   ]
  },
  {
   "cell_type": "code",
   "execution_count": 39,
   "id": "550eba8e",
   "metadata": {},
   "outputs": [
    {
     "data": {
      "text/plain": [
       "Month              6.541973\n",
       "Day               15.756831\n",
       "AvgTemperature    61.986534\n",
       "Gradoscelsius     16.659186\n",
       "dtype: float64"
      ]
     },
     "execution_count": 39,
     "metadata": {},
     "output_type": "execute_result"
    }
   ],
   "source": [
    "yeartemp.max()"
   ]
  },
  {
   "cell_type": "code",
   "execution_count": 40,
   "id": "645932b0",
   "metadata": {},
   "outputs": [
    {
     "data": {
      "text/plain": [
       "Month              2.736099\n",
       "Day               14.800077\n",
       "AvgTemperature    54.047148\n",
       "Gradoscelsius     12.248415\n",
       "dtype: float64"
      ]
     },
     "execution_count": 40,
     "metadata": {},
     "output_type": "execute_result"
    }
   ],
   "source": [
    "yeartemp.min()"
   ]
  },
  {
   "cell_type": "code",
   "execution_count": 41,
   "id": "e5c3e91a",
   "metadata": {},
   "outputs": [
    {
     "data": {
      "text/plain": [
       "Month              6.374079\n",
       "Day               15.693465\n",
       "AvgTemperature    60.119737\n",
       "Gradoscelsius     15.622076\n",
       "dtype: float64"
      ]
     },
     "execution_count": 41,
     "metadata": {},
     "output_type": "execute_result"
    }
   ],
   "source": [
    "yeartemp.mean()"
   ]
  },
  {
   "cell_type": "code",
   "execution_count": 42,
   "id": "78585e9e",
   "metadata": {},
   "outputs": [
    {
     "data": {
      "image/png": "[encoded data removed]",
      "text/plain": [
       "<Figure size 432x288 with 2 Axes>"
      ]
     },
     "metadata": {
      "needs_background": "light"
     },
     "output_type": "display_data"
    }
   ],
   "source": [
    "import numpy as np\n",
    "import matplotlib.pyplot as plt\n",
    "\n",
    "fig = plt.figure()\n",
    "fig.subplots_adjust(top=0.8)\n",
    "\n",
    "ax1 = fig.add_subplot(211)\n",
    "ax1.set_ylabel('Grados celsius')\n",
    "ax1.set_title('Años')\n",
    "\n",
    "t= [1995,1996,1997,1998,1999,2000,2001,2002,2003,2004,2005,2006,2007,2008,2009,2010,2011,2012,2013,\n",
    "        2014,2015,2016,2017,2018,2019,2020]\n",
    "\n",
    "s= yeartemp[\"Gradoscelsius\"].tolist() \n",
    "\n",
    "line, = ax1.plot(t, s, lw=2)\n",
    "\n",
    "# Fixing random state for reproducibility\n",
    "np.random.seed(19680801)\n",
    "\n",
    "ax2 = fig.add_axes([0.15, 0.1, 0.7, 0.3])\n",
    "n, bins, patches = ax2.hist(yeartemp[\"Gradoscelsius\"].tolist(), 50)\n",
    "ax2.set_xlabel('Grados celsius')\n",
    "\n",
    "plt.show()"
   ]
  },
  {
   "cell_type": "markdown",
   "id": "c5846f11",
   "metadata": {},
   "source": [
    "<p><big><i>Según la información anterior el promedio de temperartura en grados celsius por año es de<u> 15.62</u>. La temperatura maxima registrada fue en el año <u>2016</u> con <u>16.65</u> grados celsius y la menor temperatura fue en el año <u>2020</u> con<u> 12.24 </u> grados celsius en promedio </i></big></p>"
   ]
  },
  {
   "cell_type": "markdown",
   "id": "8a8ddb93",
   "metadata": {},
   "source": [
    "<h3 style=\"color:#C70039\"> Cuales paises presentan temperaturas mayores a 40 grados celsius? </h3>"
   ]
  },
  {
   "cell_type": "code",
   "execution_count": 43,
   "id": "e87c4cb5",
   "metadata": {},
   "outputs": [
    {
     "data": {
      "text/html": [
       "<div>\n",
       "<style scoped>\n",
       "    .dataframe tbody tr th:only-of-type {\n",
       "        vertical-align: middle;\n",
       "    }\n",
       "\n",
       "    .dataframe tbody tr th {\n",
       "        vertical-align: top;\n",
       "    }\n",
       "\n",
       "    .dataframe thead th {\n",
       "        text-align: right;\n",
       "    }\n",
       "</style>\n",
       "<table border=\"1\" class=\"dataframe\">\n",
       "  <thead>\n",
       "    <tr style=\"text-align: right;\">\n",
       "      <th></th>\n",
       "      <th>Country</th>\n",
       "      <th>Gradoscelsius</th>\n",
       "    </tr>\n",
       "  </thead>\n",
       "  <tbody>\n",
       "    <tr>\n",
       "      <th>1028709</th>\n",
       "      <td>Kuwait</td>\n",
       "      <td>40.333333</td>\n",
       "    </tr>\n",
       "    <tr>\n",
       "      <th>1028710</th>\n",
       "      <td>Kuwait</td>\n",
       "      <td>41.166667</td>\n",
       "    </tr>\n",
       "    <tr>\n",
       "      <th>1028711</th>\n",
       "      <td>Kuwait</td>\n",
       "      <td>40.277778</td>\n",
       "    </tr>\n",
       "    <tr>\n",
       "      <th>1028724</th>\n",
       "      <td>Kuwait</td>\n",
       "      <td>41.000000</td>\n",
       "    </tr>\n",
       "    <tr>\n",
       "      <th>1028751</th>\n",
       "      <td>Kuwait</td>\n",
       "      <td>40.222222</td>\n",
       "    </tr>\n",
       "    <tr>\n",
       "      <th>...</th>\n",
       "      <td>...</td>\n",
       "      <td>...</td>\n",
       "    </tr>\n",
       "    <tr>\n",
       "      <th>2230559</th>\n",
       "      <td>US</td>\n",
       "      <td>40.333333</td>\n",
       "    </tr>\n",
       "    <tr>\n",
       "      <th>2230560</th>\n",
       "      <td>US</td>\n",
       "      <td>40.833333</td>\n",
       "    </tr>\n",
       "    <tr>\n",
       "      <th>2233464</th>\n",
       "      <td>US</td>\n",
       "      <td>40.500000</td>\n",
       "    </tr>\n",
       "    <tr>\n",
       "      <th>2234550</th>\n",
       "      <td>US</td>\n",
       "      <td>41.666667</td>\n",
       "    </tr>\n",
       "    <tr>\n",
       "      <th>2234932</th>\n",
       "      <td>US</td>\n",
       "      <td>40.166667</td>\n",
       "    </tr>\n",
       "  </tbody>\n",
       "</table>\n",
       "<p>762 rows × 2 columns</p>\n",
       "</div>"
      ],
      "text/plain": [
       "        Country  Gradoscelsius\n",
       "1028709  Kuwait      40.333333\n",
       "1028710  Kuwait      41.166667\n",
       "1028711  Kuwait      40.277778\n",
       "1028724  Kuwait      41.000000\n",
       "1028751  Kuwait      40.222222\n",
       "...         ...            ...\n",
       "2230559      US      40.333333\n",
       "2230560      US      40.833333\n",
       "2233464      US      40.500000\n",
       "2234550      US      41.666667\n",
       "2234932      US      40.166667\n",
       "\n",
       "[762 rows x 2 columns]"
      ]
     },
     "execution_count": 43,
     "metadata": {},
     "output_type": "execute_result"
    }
   ],
   "source": [
    "mayor40=dfcity_temperature.loc[dfcity_temperature.Gradoscelsius>40,[\"Country\",\"Gradoscelsius\"]]\n",
    "mayor40"
   ]
  },
  {
   "cell_type": "code",
   "execution_count": 44,
   "id": "0cc09d26",
   "metadata": {},
   "outputs": [
    {
     "data": {
      "text/html": [
       "<div>\n",
       "<style scoped>\n",
       "    .dataframe tbody tr th:only-of-type {\n",
       "        vertical-align: middle;\n",
       "    }\n",
       "\n",
       "    .dataframe tbody tr th {\n",
       "        vertical-align: top;\n",
       "    }\n",
       "\n",
       "    .dataframe thead th {\n",
       "        text-align: right;\n",
       "    }\n",
       "</style>\n",
       "<table border=\"1\" class=\"dataframe\">\n",
       "  <thead>\n",
       "    <tr style=\"text-align: right;\">\n",
       "      <th></th>\n",
       "      <th>Gradoscelsius</th>\n",
       "    </tr>\n",
       "    <tr>\n",
       "      <th>Country</th>\n",
       "      <th></th>\n",
       "    </tr>\n",
       "  </thead>\n",
       "  <tbody>\n",
       "    <tr>\n",
       "      <th>Kuwait</th>\n",
       "      <td>41.051493</td>\n",
       "    </tr>\n",
       "    <tr>\n",
       "      <th>Qatar</th>\n",
       "      <td>40.733135</td>\n",
       "    </tr>\n",
       "    <tr>\n",
       "      <th>Saudi Arabia</th>\n",
       "      <td>40.702899</td>\n",
       "    </tr>\n",
       "    <tr>\n",
       "      <th>United Arab Emirates</th>\n",
       "      <td>40.702257</td>\n",
       "    </tr>\n",
       "    <tr>\n",
       "      <th>US</th>\n",
       "      <td>40.615556</td>\n",
       "    </tr>\n",
       "    <tr>\n",
       "      <th>Oman</th>\n",
       "      <td>40.601852</td>\n",
       "    </tr>\n",
       "  </tbody>\n",
       "</table>\n",
       "</div>"
      ],
      "text/plain": [
       "                      Gradoscelsius\n",
       "Country                            \n",
       "Kuwait                    41.051493\n",
       "Qatar                     40.733135\n",
       "Saudi Arabia              40.702899\n",
       "United Arab Emirates      40.702257\n",
       "US                        40.615556\n",
       "Oman                      40.601852"
      ]
     },
     "execution_count": 44,
     "metadata": {},
     "output_type": "execute_result"
    }
   ],
   "source": [
    "grupo40=mayor40.groupby(dfcity_temperature[\"Country\"]).mean()\n",
    "grupo40.sort_values(by='Gradoscelsius', ascending=False)"
   ]
  },
  {
   "cell_type": "markdown",
   "id": "a2827e65",
   "metadata": {},
   "source": [
    "<p><i><big> De acuerdo a la data anterior, los paises con temperaturas mayores de 40 grados celsius son: Kuwait,Qatar,Saudi Arabia,United Arab Emirates,US,Oman. </i></big></p>"
   ]
  },
  {
   "cell_type": "markdown",
   "id": "fc472f35",
   "metadata": {},
   "source": [
    "<h3 style=\"color:#C70039\"> Cuales paises presentan temperaturas menores a 40 grados celsius? </h3>"
   ]
  },
  {
   "cell_type": "code",
   "execution_count": 45,
   "id": "2aa9eca1",
   "metadata": {},
   "outputs": [
    {
     "data": {
      "text/html": [
       "<div>\n",
       "<style scoped>\n",
       "    .dataframe tbody tr th:only-of-type {\n",
       "        vertical-align: middle;\n",
       "    }\n",
       "\n",
       "    .dataframe tbody tr th {\n",
       "        vertical-align: top;\n",
       "    }\n",
       "\n",
       "    .dataframe thead th {\n",
       "        text-align: right;\n",
       "    }\n",
       "</style>\n",
       "<table border=\"1\" class=\"dataframe\">\n",
       "  <thead>\n",
       "    <tr style=\"text-align: right;\">\n",
       "      <th></th>\n",
       "      <th>Country</th>\n",
       "      <th>Gradoscelsius</th>\n",
       "    </tr>\n",
       "  </thead>\n",
       "  <tbody>\n",
       "    <tr>\n",
       "      <th>1497341</th>\n",
       "      <td>US</td>\n",
       "      <td>-40.888889</td>\n",
       "    </tr>\n",
       "    <tr>\n",
       "      <th>1497691</th>\n",
       "      <td>US</td>\n",
       "      <td>-40.944444</td>\n",
       "    </tr>\n",
       "    <tr>\n",
       "      <th>1498047</th>\n",
       "      <td>US</td>\n",
       "      <td>-40.944444</td>\n",
       "    </tr>\n",
       "    <tr>\n",
       "      <th>1498048</th>\n",
       "      <td>US</td>\n",
       "      <td>-41.833333</td>\n",
       "    </tr>\n",
       "    <tr>\n",
       "      <th>1498050</th>\n",
       "      <td>US</td>\n",
       "      <td>-43.444444</td>\n",
       "    </tr>\n",
       "  </tbody>\n",
       "</table>\n",
       "</div>"
      ],
      "text/plain": [
       "        Country  Gradoscelsius\n",
       "1497341      US     -40.888889\n",
       "1497691      US     -40.944444\n",
       "1498047      US     -40.944444\n",
       "1498048      US     -41.833333\n",
       "1498050      US     -43.444444"
      ]
     },
     "execution_count": 45,
     "metadata": {},
     "output_type": "execute_result"
    }
   ],
   "source": [
    "menor40=dfcity_temperature.loc[dfcity_temperature[\"Gradoscelsius\"]<-40,[\"Country\",\"Gradoscelsius\"]]\n",
    "menor40.head()"
   ]
  },
  {
   "cell_type": "code",
   "execution_count": 46,
   "id": "77427e3e",
   "metadata": {},
   "outputs": [
    {
     "data": {
      "text/html": [
       "<div>\n",
       "<style scoped>\n",
       "    .dataframe tbody tr th:only-of-type {\n",
       "        vertical-align: middle;\n",
       "    }\n",
       "\n",
       "    .dataframe tbody tr th {\n",
       "        vertical-align: top;\n",
       "    }\n",
       "\n",
       "    .dataframe thead th {\n",
       "        text-align: right;\n",
       "    }\n",
       "</style>\n",
       "<table border=\"1\" class=\"dataframe\">\n",
       "  <thead>\n",
       "    <tr style=\"text-align: right;\">\n",
       "      <th></th>\n",
       "      <th>Gradoscelsius</th>\n",
       "    </tr>\n",
       "    <tr>\n",
       "      <th>Country</th>\n",
       "      <th></th>\n",
       "    </tr>\n",
       "  </thead>\n",
       "  <tbody>\n",
       "    <tr>\n",
       "      <th>US</th>\n",
       "      <td>-41.732426</td>\n",
       "    </tr>\n",
       "  </tbody>\n",
       "</table>\n",
       "</div>"
      ],
      "text/plain": [
       "         Gradoscelsius\n",
       "Country               \n",
       "US          -41.732426"
      ]
     },
     "execution_count": 46,
     "metadata": {},
     "output_type": "execute_result"
    }
   ],
   "source": [
    "grupo_40=menor40.groupby(dfcity_temperature[\"Country\"]).mean()\n",
    "grupo_40"
   ]
  },
  {
   "cell_type": "markdown",
   "id": "3d0c80ce",
   "metadata": {},
   "source": [
    "<p><i><big> Con la informacion anterior se determina que <b>US</b> es el unico pais con temperaturas inferiores a los 40 grados celsius</i></big></p>"
   ]
  },
  {
   "cell_type": "markdown",
   "id": "58578c75",
   "metadata": {},
   "source": [
    "<h3 style=\"color:#C70039\"> Cuales estados presentan temperaturas mayores a 40 grados celsius? </h3>"
   ]
  },
  {
   "cell_type": "code",
   "execution_count": 47,
   "id": "87bcbebf",
   "metadata": {},
   "outputs": [
    {
     "data": {
      "text/html": [
       "<div>\n",
       "<style scoped>\n",
       "    .dataframe tbody tr th:only-of-type {\n",
       "        vertical-align: middle;\n",
       "    }\n",
       "\n",
       "    .dataframe tbody tr th {\n",
       "        vertical-align: top;\n",
       "    }\n",
       "\n",
       "    .dataframe thead th {\n",
       "        text-align: right;\n",
       "    }\n",
       "</style>\n",
       "<table border=\"1\" class=\"dataframe\">\n",
       "  <thead>\n",
       "    <tr style=\"text-align: right;\">\n",
       "      <th></th>\n",
       "      <th>State</th>\n",
       "      <th>Gradoscelsius</th>\n",
       "    </tr>\n",
       "  </thead>\n",
       "  <tbody>\n",
       "    <tr>\n",
       "      <th>1034962</th>\n",
       "      <td>Texas</td>\n",
       "      <td>43.333333</td>\n",
       "    </tr>\n",
       "    <tr>\n",
       "      <th>1036042</th>\n",
       "      <td>Texas</td>\n",
       "      <td>43.277778</td>\n",
       "    </tr>\n",
       "    <tr>\n",
       "      <th>1032390</th>\n",
       "      <td>Texas</td>\n",
       "      <td>43.277778</td>\n",
       "    </tr>\n",
       "    <tr>\n",
       "      <th>1036756</th>\n",
       "      <td>Texas</td>\n",
       "      <td>43.277778</td>\n",
       "    </tr>\n",
       "    <tr>\n",
       "      <th>1034963</th>\n",
       "      <td>Texas</td>\n",
       "      <td>43.277778</td>\n",
       "    </tr>\n",
       "    <tr>\n",
       "      <th>...</th>\n",
       "      <td>...</td>\n",
       "      <td>...</td>\n",
       "    </tr>\n",
       "    <tr>\n",
       "      <th>1036778</th>\n",
       "      <td>Texas</td>\n",
       "      <td>40.055556</td>\n",
       "    </tr>\n",
       "    <tr>\n",
       "      <th>1031263</th>\n",
       "      <td>Texas</td>\n",
       "      <td>40.055556</td>\n",
       "    </tr>\n",
       "    <tr>\n",
       "      <th>1031261</th>\n",
       "      <td>Texas</td>\n",
       "      <td>40.055556</td>\n",
       "    </tr>\n",
       "    <tr>\n",
       "      <th>1036794</th>\n",
       "      <td>Texas</td>\n",
       "      <td>40.055556</td>\n",
       "    </tr>\n",
       "    <tr>\n",
       "      <th>1034228</th>\n",
       "      <td>Texas</td>\n",
       "      <td>40.055556</td>\n",
       "    </tr>\n",
       "  </tbody>\n",
       "</table>\n",
       "<p>762 rows × 2 columns</p>\n",
       "</div>"
      ],
      "text/plain": [
       "         State  Gradoscelsius\n",
       "1034962  Texas      43.333333\n",
       "1036042  Texas      43.277778\n",
       "1032390  Texas      43.277778\n",
       "1036756  Texas      43.277778\n",
       "1034963  Texas      43.277778\n",
       "...        ...            ...\n",
       "1036778  Texas      40.055556\n",
       "1031263  Texas      40.055556\n",
       "1031261  Texas      40.055556\n",
       "1036794  Texas      40.055556\n",
       "1034228  Texas      40.055556\n",
       "\n",
       "[762 rows x 2 columns]"
      ]
     },
     "execution_count": 47,
     "metadata": {},
     "output_type": "execute_result"
    }
   ],
   "source": [
    "estado40=dfcity_temperature.loc[dfcity_temperature[\"Gradoscelsius\"]>40,[\"State\",\"Gradoscelsius\"]]\n",
    "estado40.sort_values(by='Gradoscelsius', ascending=False)"
   ]
  },
  {
   "cell_type": "code",
   "execution_count": 48,
   "id": "82216940",
   "metadata": {},
   "outputs": [
    {
     "data": {
      "text/html": [
       "<div>\n",
       "<style scoped>\n",
       "    .dataframe tbody tr th:only-of-type {\n",
       "        vertical-align: middle;\n",
       "    }\n",
       "\n",
       "    .dataframe tbody tr th {\n",
       "        vertical-align: top;\n",
       "    }\n",
       "\n",
       "    .dataframe thead th {\n",
       "        text-align: right;\n",
       "    }\n",
       "</style>\n",
       "<table border=\"1\" class=\"dataframe\">\n",
       "  <thead>\n",
       "    <tr style=\"text-align: right;\">\n",
       "      <th></th>\n",
       "      <th>Gradoscelsius</th>\n",
       "    </tr>\n",
       "    <tr>\n",
       "      <th>State</th>\n",
       "      <th></th>\n",
       "    </tr>\n",
       "  </thead>\n",
       "  <tbody>\n",
       "    <tr>\n",
       "      <th>Texas</th>\n",
       "      <td>40.982436</td>\n",
       "    </tr>\n",
       "    <tr>\n",
       "      <th>Nevada</th>\n",
       "      <td>40.657407</td>\n",
       "    </tr>\n",
       "    <tr>\n",
       "      <th>Arizona</th>\n",
       "      <td>40.602339</td>\n",
       "    </tr>\n",
       "  </tbody>\n",
       "</table>\n",
       "</div>"
      ],
      "text/plain": [
       "         Gradoscelsius\n",
       "State                 \n",
       "Texas        40.982436\n",
       "Nevada       40.657407\n",
       "Arizona      40.602339"
      ]
     },
     "execution_count": 48,
     "metadata": {},
     "output_type": "execute_result"
    }
   ],
   "source": [
    "grupo5=estado40.groupby(dfcity_temperature[\"State\"]).mean()\n",
    "grupo5.sort_values(by='Gradoscelsius', ascending=False)"
   ]
  },
  {
   "cell_type": "markdown",
   "id": "a6038728",
   "metadata": {},
   "source": [
    "<p><i><big> Los estados que presentan temperaturas mayores a 40 grados celsius son <b>Texas,Nevada y Arizona.</b> </i></big></p>"
   ]
  },
  {
   "cell_type": "markdown",
   "id": "33a084ed",
   "metadata": {},
   "source": [
    "<h3 style=\"color:#C70039\"> Cuales estados presentan temperaturas menores a 40 grados celsius? </h3>"
   ]
  },
  {
   "cell_type": "code",
   "execution_count": 49,
   "id": "9f572a82",
   "metadata": {
    "scrolled": true
   },
   "outputs": [
    {
     "data": {
      "text/html": [
       "<div>\n",
       "<style scoped>\n",
       "    .dataframe tbody tr th:only-of-type {\n",
       "        vertical-align: middle;\n",
       "    }\n",
       "\n",
       "    .dataframe tbody tr th {\n",
       "        vertical-align: top;\n",
       "    }\n",
       "\n",
       "    .dataframe thead th {\n",
       "        text-align: right;\n",
       "    }\n",
       "</style>\n",
       "<table border=\"1\" class=\"dataframe\">\n",
       "  <thead>\n",
       "    <tr style=\"text-align: right;\">\n",
       "      <th></th>\n",
       "      <th>State</th>\n",
       "      <th>Gradoscelsius</th>\n",
       "    </tr>\n",
       "  </thead>\n",
       "  <tbody>\n",
       "    <tr>\n",
       "      <th>1497341</th>\n",
       "      <td>Alaska</td>\n",
       "      <td>-40.888889</td>\n",
       "    </tr>\n",
       "    <tr>\n",
       "      <th>1497691</th>\n",
       "      <td>Alaska</td>\n",
       "      <td>-40.944444</td>\n",
       "    </tr>\n",
       "    <tr>\n",
       "      <th>1498047</th>\n",
       "      <td>Alaska</td>\n",
       "      <td>-40.944444</td>\n",
       "    </tr>\n",
       "    <tr>\n",
       "      <th>1498048</th>\n",
       "      <td>Alaska</td>\n",
       "      <td>-41.833333</td>\n",
       "    </tr>\n",
       "    <tr>\n",
       "      <th>1498050</th>\n",
       "      <td>Alaska</td>\n",
       "      <td>-43.444444</td>\n",
       "    </tr>\n",
       "  </tbody>\n",
       "</table>\n",
       "</div>"
      ],
      "text/plain": [
       "          State  Gradoscelsius\n",
       "1497341  Alaska     -40.888889\n",
       "1497691  Alaska     -40.944444\n",
       "1498047  Alaska     -40.944444\n",
       "1498048  Alaska     -41.833333\n",
       "1498050  Alaska     -43.444444"
      ]
     },
     "execution_count": 49,
     "metadata": {},
     "output_type": "execute_result"
    }
   ],
   "source": [
    "estado_40=dfcity_temperature.loc[dfcity_temperature[\"Gradoscelsius\"]<-40,[\"State\",\"Gradoscelsius\"]]\n",
    "estado_40.head()"
   ]
  },
  {
   "cell_type": "code",
   "execution_count": 50,
   "id": "0904d199",
   "metadata": {},
   "outputs": [
    {
     "data": {
      "text/html": [
       "<div>\n",
       "<style scoped>\n",
       "    .dataframe tbody tr th:only-of-type {\n",
       "        vertical-align: middle;\n",
       "    }\n",
       "\n",
       "    .dataframe tbody tr th {\n",
       "        vertical-align: top;\n",
       "    }\n",
       "\n",
       "    .dataframe thead th {\n",
       "        text-align: right;\n",
       "    }\n",
       "</style>\n",
       "<table border=\"1\" class=\"dataframe\">\n",
       "  <thead>\n",
       "    <tr style=\"text-align: right;\">\n",
       "      <th></th>\n",
       "      <th>Gradoscelsius</th>\n",
       "    </tr>\n",
       "    <tr>\n",
       "      <th>State</th>\n",
       "      <th></th>\n",
       "    </tr>\n",
       "  </thead>\n",
       "  <tbody>\n",
       "    <tr>\n",
       "      <th>Alaska</th>\n",
       "      <td>-41.732426</td>\n",
       "    </tr>\n",
       "  </tbody>\n",
       "</table>\n",
       "</div>"
      ],
      "text/plain": [
       "        Gradoscelsius\n",
       "State                \n",
       "Alaska     -41.732426"
      ]
     },
     "execution_count": 50,
     "metadata": {},
     "output_type": "execute_result"
    }
   ],
   "source": [
    "grupo6=estado_40.groupby(dfcity_temperature[\"State\"]).mean()\n",
    "grupo6"
   ]
  },
  {
   "cell_type": "markdown",
   "id": "25bd0124",
   "metadata": {},
   "source": [
    "<P><i><big>El unico estado que presenta temperaturas inferiores a 40 grados celsius es <b>Alaska.</b> </i></big></p>"
   ]
  },
  {
   "cell_type": "markdown",
   "id": "ce4a3a6d",
   "metadata": {},
   "source": [
    "<h3 style=\"color:#C70039\"> En el set de datos, existe informacion de Costa Rica? </h3>"
   ]
  },
  {
   "cell_type": "code",
   "execution_count": 51,
   "id": "91dae2f3",
   "metadata": {},
   "outputs": [
    {
     "data": {
      "text/html": [
       "<div>\n",
       "<style scoped>\n",
       "    .dataframe tbody tr th:only-of-type {\n",
       "        vertical-align: middle;\n",
       "    }\n",
       "\n",
       "    .dataframe tbody tr th {\n",
       "        vertical-align: top;\n",
       "    }\n",
       "\n",
       "    .dataframe thead th {\n",
       "        text-align: right;\n",
       "    }\n",
       "</style>\n",
       "<table border=\"1\" class=\"dataframe\">\n",
       "  <thead>\n",
       "    <tr style=\"text-align: right;\">\n",
       "      <th></th>\n",
       "      <th>Region</th>\n",
       "      <th>Country</th>\n",
       "      <th>State</th>\n",
       "      <th>City</th>\n",
       "      <th>Month</th>\n",
       "      <th>Day</th>\n",
       "      <th>Year</th>\n",
       "      <th>AvgTemperature</th>\n",
       "      <th>Gradoscelsius</th>\n",
       "    </tr>\n",
       "  </thead>\n",
       "  <tbody>\n",
       "    <tr>\n",
       "      <th>1319838</th>\n",
       "      <td>South/Central America &amp; Carribean</td>\n",
       "      <td>Costa Rica</td>\n",
       "      <td>Texas</td>\n",
       "      <td>San Jose</td>\n",
       "      <td>1</td>\n",
       "      <td>1</td>\n",
       "      <td>1995</td>\n",
       "      <td>72.9</td>\n",
       "      <td>22.722222</td>\n",
       "    </tr>\n",
       "    <tr>\n",
       "      <th>1319839</th>\n",
       "      <td>South/Central America &amp; Carribean</td>\n",
       "      <td>Costa Rica</td>\n",
       "      <td>Texas</td>\n",
       "      <td>San Jose</td>\n",
       "      <td>1</td>\n",
       "      <td>2</td>\n",
       "      <td>1995</td>\n",
       "      <td>72.0</td>\n",
       "      <td>22.222222</td>\n",
       "    </tr>\n",
       "    <tr>\n",
       "      <th>1319840</th>\n",
       "      <td>South/Central America &amp; Carribean</td>\n",
       "      <td>Costa Rica</td>\n",
       "      <td>Texas</td>\n",
       "      <td>San Jose</td>\n",
       "      <td>1</td>\n",
       "      <td>3</td>\n",
       "      <td>1995</td>\n",
       "      <td>74.3</td>\n",
       "      <td>23.500000</td>\n",
       "    </tr>\n",
       "    <tr>\n",
       "      <th>1319841</th>\n",
       "      <td>South/Central America &amp; Carribean</td>\n",
       "      <td>Costa Rica</td>\n",
       "      <td>Texas</td>\n",
       "      <td>San Jose</td>\n",
       "      <td>1</td>\n",
       "      <td>4</td>\n",
       "      <td>1995</td>\n",
       "      <td>71.5</td>\n",
       "      <td>21.944444</td>\n",
       "    </tr>\n",
       "    <tr>\n",
       "      <th>1319842</th>\n",
       "      <td>South/Central America &amp; Carribean</td>\n",
       "      <td>Costa Rica</td>\n",
       "      <td>Texas</td>\n",
       "      <td>San Jose</td>\n",
       "      <td>1</td>\n",
       "      <td>5</td>\n",
       "      <td>1995</td>\n",
       "      <td>72.8</td>\n",
       "      <td>22.666667</td>\n",
       "    </tr>\n",
       "    <tr>\n",
       "      <th>...</th>\n",
       "      <td>...</td>\n",
       "      <td>...</td>\n",
       "      <td>...</td>\n",
       "      <td>...</td>\n",
       "      <td>...</td>\n",
       "      <td>...</td>\n",
       "      <td>...</td>\n",
       "      <td>...</td>\n",
       "      <td>...</td>\n",
       "    </tr>\n",
       "    <tr>\n",
       "      <th>1329099</th>\n",
       "      <td>South/Central America &amp; Carribean</td>\n",
       "      <td>Costa Rica</td>\n",
       "      <td>Texas</td>\n",
       "      <td>San Jose</td>\n",
       "      <td>5</td>\n",
       "      <td>9</td>\n",
       "      <td>2020</td>\n",
       "      <td>75.8</td>\n",
       "      <td>24.333333</td>\n",
       "    </tr>\n",
       "    <tr>\n",
       "      <th>1329100</th>\n",
       "      <td>South/Central America &amp; Carribean</td>\n",
       "      <td>Costa Rica</td>\n",
       "      <td>Texas</td>\n",
       "      <td>San Jose</td>\n",
       "      <td>5</td>\n",
       "      <td>10</td>\n",
       "      <td>2020</td>\n",
       "      <td>75.6</td>\n",
       "      <td>24.222222</td>\n",
       "    </tr>\n",
       "    <tr>\n",
       "      <th>1329101</th>\n",
       "      <td>South/Central America &amp; Carribean</td>\n",
       "      <td>Costa Rica</td>\n",
       "      <td>Texas</td>\n",
       "      <td>San Jose</td>\n",
       "      <td>5</td>\n",
       "      <td>11</td>\n",
       "      <td>2020</td>\n",
       "      <td>75.8</td>\n",
       "      <td>24.333333</td>\n",
       "    </tr>\n",
       "    <tr>\n",
       "      <th>1329102</th>\n",
       "      <td>South/Central America &amp; Carribean</td>\n",
       "      <td>Costa Rica</td>\n",
       "      <td>Texas</td>\n",
       "      <td>San Jose</td>\n",
       "      <td>5</td>\n",
       "      <td>12</td>\n",
       "      <td>2020</td>\n",
       "      <td>77.4</td>\n",
       "      <td>25.222222</td>\n",
       "    </tr>\n",
       "    <tr>\n",
       "      <th>1329103</th>\n",
       "      <td>South/Central America &amp; Carribean</td>\n",
       "      <td>Costa Rica</td>\n",
       "      <td>Texas</td>\n",
       "      <td>San Jose</td>\n",
       "      <td>5</td>\n",
       "      <td>13</td>\n",
       "      <td>2020</td>\n",
       "      <td>73.1</td>\n",
       "      <td>22.833333</td>\n",
       "    </tr>\n",
       "  </tbody>\n",
       "</table>\n",
       "<p>9266 rows × 9 columns</p>\n",
       "</div>"
      ],
      "text/plain": [
       "                                    Region     Country  State      City  \\\n",
       "1319838  South/Central America & Carribean  Costa Rica  Texas  San Jose   \n",
       "1319839  South/Central America & Carribean  Costa Rica  Texas  San Jose   \n",
       "1319840  South/Central America & Carribean  Costa Rica  Texas  San Jose   \n",
       "1319841  South/Central America & Carribean  Costa Rica  Texas  San Jose   \n",
       "1319842  South/Central America & Carribean  Costa Rica  Texas  San Jose   \n",
       "...                                    ...         ...    ...       ...   \n",
       "1329099  South/Central America & Carribean  Costa Rica  Texas  San Jose   \n",
       "1329100  South/Central America & Carribean  Costa Rica  Texas  San Jose   \n",
       "1329101  South/Central America & Carribean  Costa Rica  Texas  San Jose   \n",
       "1329102  South/Central America & Carribean  Costa Rica  Texas  San Jose   \n",
       "1329103  South/Central America & Carribean  Costa Rica  Texas  San Jose   \n",
       "\n",
       "         Month  Day  Year  AvgTemperature  Gradoscelsius  \n",
       "1319838      1    1  1995            72.9      22.722222  \n",
       "1319839      1    2  1995            72.0      22.222222  \n",
       "1319840      1    3  1995            74.3      23.500000  \n",
       "1319841      1    4  1995            71.5      21.944444  \n",
       "1319842      1    5  1995            72.8      22.666667  \n",
       "...        ...  ...   ...             ...            ...  \n",
       "1329099      5    9  2020            75.8      24.333333  \n",
       "1329100      5   10  2020            75.6      24.222222  \n",
       "1329101      5   11  2020            75.8      24.333333  \n",
       "1329102      5   12  2020            77.4      25.222222  \n",
       "1329103      5   13  2020            73.1      22.833333  \n",
       "\n",
       "[9266 rows x 9 columns]"
      ]
     },
     "execution_count": 51,
     "metadata": {},
     "output_type": "execute_result"
    }
   ],
   "source": [
    "costarica=dfcity_temperature[dfcity_temperature['Country'].str.contains('Costa Rica') == True]\n",
    "costarica"
   ]
  },
  {
   "cell_type": "markdown",
   "id": "87151c8b",
   "metadata": {},
   "source": [
    "<p><i><big> Realizando un filtro del set de datos,se encuentra registros de tempeartura de Costa Rica</i></big></p>"
   ]
  },
  {
   "cell_type": "markdown",
   "id": "eb9c3822",
   "metadata": {},
   "source": [
    "<h3 style=\"color:#C70039\"> Cual es la temperatura promedio de Costa Rica por año? </h3>"
   ]
  },
  {
   "cell_type": "code",
   "execution_count": 52,
   "id": "e9a75455",
   "metadata": {},
   "outputs": [
    {
     "data": {
      "text/html": [
       "<div>\n",
       "<style scoped>\n",
       "    .dataframe tbody tr th:only-of-type {\n",
       "        vertical-align: middle;\n",
       "    }\n",
       "\n",
       "    .dataframe tbody tr th {\n",
       "        vertical-align: top;\n",
       "    }\n",
       "\n",
       "    .dataframe thead th {\n",
       "        text-align: right;\n",
       "    }\n",
       "</style>\n",
       "<table border=\"1\" class=\"dataframe\">\n",
       "  <thead>\n",
       "    <tr style=\"text-align: right;\">\n",
       "      <th></th>\n",
       "      <th>Month</th>\n",
       "      <th>Day</th>\n",
       "      <th>Year</th>\n",
       "      <th>AvgTemperature</th>\n",
       "      <th>Gradoscelsius</th>\n",
       "    </tr>\n",
       "    <tr>\n",
       "      <th>Year</th>\n",
       "      <th></th>\n",
       "      <th></th>\n",
       "      <th></th>\n",
       "      <th></th>\n",
       "      <th></th>\n",
       "    </tr>\n",
       "  </thead>\n",
       "  <tbody>\n",
       "    <tr>\n",
       "      <th>1995</th>\n",
       "      <td>6.526027</td>\n",
       "      <td>15.720548</td>\n",
       "      <td>1995.0</td>\n",
       "      <td>70.177808</td>\n",
       "      <td>21.209893</td>\n",
       "    </tr>\n",
       "    <tr>\n",
       "      <th>1996</th>\n",
       "      <td>6.513661</td>\n",
       "      <td>15.756831</td>\n",
       "      <td>1996.0</td>\n",
       "      <td>71.605464</td>\n",
       "      <td>22.003036</td>\n",
       "    </tr>\n",
       "    <tr>\n",
       "      <th>1997</th>\n",
       "      <td>6.526027</td>\n",
       "      <td>15.720548</td>\n",
       "      <td>1997.0</td>\n",
       "      <td>73.195890</td>\n",
       "      <td>22.886606</td>\n",
       "    </tr>\n",
       "    <tr>\n",
       "      <th>1998</th>\n",
       "      <td>6.526027</td>\n",
       "      <td>15.720548</td>\n",
       "      <td>1998.0</td>\n",
       "      <td>73.507397</td>\n",
       "      <td>23.059665</td>\n",
       "    </tr>\n",
       "    <tr>\n",
       "      <th>1999</th>\n",
       "      <td>6.526027</td>\n",
       "      <td>15.720548</td>\n",
       "      <td>1999.0</td>\n",
       "      <td>71.444658</td>\n",
       "      <td>21.913699</td>\n",
       "    </tr>\n",
       "    <tr>\n",
       "      <th>2000</th>\n",
       "      <td>6.513661</td>\n",
       "      <td>15.756831</td>\n",
       "      <td>2000.0</td>\n",
       "      <td>72.097268</td>\n",
       "      <td>22.276260</td>\n",
       "    </tr>\n",
       "    <tr>\n",
       "      <th>2001</th>\n",
       "      <td>6.526027</td>\n",
       "      <td>15.720548</td>\n",
       "      <td>2001.0</td>\n",
       "      <td>73.195068</td>\n",
       "      <td>22.886149</td>\n",
       "    </tr>\n",
       "    <tr>\n",
       "      <th>2002</th>\n",
       "      <td>6.526027</td>\n",
       "      <td>15.720548</td>\n",
       "      <td>2002.0</td>\n",
       "      <td>73.807123</td>\n",
       "      <td>23.226180</td>\n",
       "    </tr>\n",
       "    <tr>\n",
       "      <th>2003</th>\n",
       "      <td>6.526027</td>\n",
       "      <td>15.720548</td>\n",
       "      <td>2003.0</td>\n",
       "      <td>73.393973</td>\n",
       "      <td>22.996651</td>\n",
       "    </tr>\n",
       "    <tr>\n",
       "      <th>2004</th>\n",
       "      <td>6.513661</td>\n",
       "      <td>15.756831</td>\n",
       "      <td>2004.0</td>\n",
       "      <td>73.227322</td>\n",
       "      <td>22.904068</td>\n",
       "    </tr>\n",
       "    <tr>\n",
       "      <th>2005</th>\n",
       "      <td>6.526027</td>\n",
       "      <td>15.720548</td>\n",
       "      <td>2005.0</td>\n",
       "      <td>72.198356</td>\n",
       "      <td>22.332420</td>\n",
       "    </tr>\n",
       "    <tr>\n",
       "      <th>2006</th>\n",
       "      <td>6.526027</td>\n",
       "      <td>15.720548</td>\n",
       "      <td>2006.0</td>\n",
       "      <td>72.642466</td>\n",
       "      <td>22.579148</td>\n",
       "    </tr>\n",
       "    <tr>\n",
       "      <th>2007</th>\n",
       "      <td>6.526027</td>\n",
       "      <td>15.720548</td>\n",
       "      <td>2007.0</td>\n",
       "      <td>72.376986</td>\n",
       "      <td>22.431659</td>\n",
       "    </tr>\n",
       "    <tr>\n",
       "      <th>2008</th>\n",
       "      <td>6.513661</td>\n",
       "      <td>15.756831</td>\n",
       "      <td>2008.0</td>\n",
       "      <td>71.528689</td>\n",
       "      <td>21.960383</td>\n",
       "    </tr>\n",
       "    <tr>\n",
       "      <th>2009</th>\n",
       "      <td>6.526027</td>\n",
       "      <td>15.720548</td>\n",
       "      <td>2009.0</td>\n",
       "      <td>72.815342</td>\n",
       "      <td>22.675190</td>\n",
       "    </tr>\n",
       "    <tr>\n",
       "      <th>2010</th>\n",
       "      <td>6.526027</td>\n",
       "      <td>15.720548</td>\n",
       "      <td>2010.0</td>\n",
       "      <td>72.440822</td>\n",
       "      <td>22.467123</td>\n",
       "    </tr>\n",
       "    <tr>\n",
       "      <th>2011</th>\n",
       "      <td>6.526027</td>\n",
       "      <td>15.720548</td>\n",
       "      <td>2011.0</td>\n",
       "      <td>72.134795</td>\n",
       "      <td>22.297108</td>\n",
       "    </tr>\n",
       "    <tr>\n",
       "      <th>2012</th>\n",
       "      <td>6.513661</td>\n",
       "      <td>15.756831</td>\n",
       "      <td>2012.0</td>\n",
       "      <td>72.380601</td>\n",
       "      <td>22.433667</td>\n",
       "    </tr>\n",
       "    <tr>\n",
       "      <th>2013</th>\n",
       "      <td>6.526027</td>\n",
       "      <td>15.720548</td>\n",
       "      <td>2013.0</td>\n",
       "      <td>72.650411</td>\n",
       "      <td>22.583562</td>\n",
       "    </tr>\n",
       "    <tr>\n",
       "      <th>2014</th>\n",
       "      <td>6.526027</td>\n",
       "      <td>15.720548</td>\n",
       "      <td>2014.0</td>\n",
       "      <td>72.985753</td>\n",
       "      <td>22.769863</td>\n",
       "    </tr>\n",
       "    <tr>\n",
       "      <th>2015</th>\n",
       "      <td>6.540984</td>\n",
       "      <td>15.759563</td>\n",
       "      <td>2015.0</td>\n",
       "      <td>73.698907</td>\n",
       "      <td>23.166060</td>\n",
       "    </tr>\n",
       "    <tr>\n",
       "      <th>2016</th>\n",
       "      <td>6.513661</td>\n",
       "      <td>15.756831</td>\n",
       "      <td>2016.0</td>\n",
       "      <td>73.186339</td>\n",
       "      <td>22.881299</td>\n",
       "    </tr>\n",
       "    <tr>\n",
       "      <th>2017</th>\n",
       "      <td>6.526027</td>\n",
       "      <td>15.720548</td>\n",
       "      <td>2017.0</td>\n",
       "      <td>72.883288</td>\n",
       "      <td>22.712938</td>\n",
       "    </tr>\n",
       "    <tr>\n",
       "      <th>2018</th>\n",
       "      <td>6.526027</td>\n",
       "      <td>15.720548</td>\n",
       "      <td>2018.0</td>\n",
       "      <td>72.637808</td>\n",
       "      <td>22.576560</td>\n",
       "    </tr>\n",
       "    <tr>\n",
       "      <th>2019</th>\n",
       "      <td>6.526027</td>\n",
       "      <td>15.720548</td>\n",
       "      <td>2019.0</td>\n",
       "      <td>73.217260</td>\n",
       "      <td>22.898478</td>\n",
       "    </tr>\n",
       "    <tr>\n",
       "      <th>2020</th>\n",
       "      <td>2.738806</td>\n",
       "      <td>14.798507</td>\n",
       "      <td>2020.0</td>\n",
       "      <td>74.939552</td>\n",
       "      <td>23.855307</td>\n",
       "    </tr>\n",
       "  </tbody>\n",
       "</table>\n",
       "</div>"
      ],
      "text/plain": [
       "         Month        Day    Year  AvgTemperature  Gradoscelsius\n",
       "Year                                                            \n",
       "1995  6.526027  15.720548  1995.0       70.177808      21.209893\n",
       "1996  6.513661  15.756831  1996.0       71.605464      22.003036\n",
       "1997  6.526027  15.720548  1997.0       73.195890      22.886606\n",
       "1998  6.526027  15.720548  1998.0       73.507397      23.059665\n",
       "1999  6.526027  15.720548  1999.0       71.444658      21.913699\n",
       "2000  6.513661  15.756831  2000.0       72.097268      22.276260\n",
       "2001  6.526027  15.720548  2001.0       73.195068      22.886149\n",
       "2002  6.526027  15.720548  2002.0       73.807123      23.226180\n",
       "2003  6.526027  15.720548  2003.0       73.393973      22.996651\n",
       "2004  6.513661  15.756831  2004.0       73.227322      22.904068\n",
       "2005  6.526027  15.720548  2005.0       72.198356      22.332420\n",
       "2006  6.526027  15.720548  2006.0       72.642466      22.579148\n",
       "2007  6.526027  15.720548  2007.0       72.376986      22.431659\n",
       "2008  6.513661  15.756831  2008.0       71.528689      21.960383\n",
       "2009  6.526027  15.720548  2009.0       72.815342      22.675190\n",
       "2010  6.526027  15.720548  2010.0       72.440822      22.467123\n",
       "2011  6.526027  15.720548  2011.0       72.134795      22.297108\n",
       "2012  6.513661  15.756831  2012.0       72.380601      22.433667\n",
       "2013  6.526027  15.720548  2013.0       72.650411      22.583562\n",
       "2014  6.526027  15.720548  2014.0       72.985753      22.769863\n",
       "2015  6.540984  15.759563  2015.0       73.698907      23.166060\n",
       "2016  6.513661  15.756831  2016.0       73.186339      22.881299\n",
       "2017  6.526027  15.720548  2017.0       72.883288      22.712938\n",
       "2018  6.526027  15.720548  2018.0       72.637808      22.576560\n",
       "2019  6.526027  15.720548  2019.0       73.217260      22.898478\n",
       "2020  2.738806  14.798507  2020.0       74.939552      23.855307"
      ]
     },
     "execution_count": 52,
     "metadata": {},
     "output_type": "execute_result"
    }
   ],
   "source": [
    "costarica1=costarica.groupby(dfcity_temperature[\"Year\"]).mean()\n",
    "costarica1"
   ]
  },
  {
   "cell_type": "code",
   "execution_count": 53,
   "id": "4e2209c8",
   "metadata": {},
   "outputs": [
    {
     "data": {
      "image/png": "[encoded data removed]",
      "text/plain": [
       "<Figure size 1080x432 with 1 Axes>"
      ]
     },
     "metadata": {
      "needs_background": "light"
     },
     "output_type": "display_data"
    }
   ],
   "source": [
    "import matplotlib.pyplot as plt\n",
    "import numpy as np\n",
    "\n",
    "# Data for plotting\n",
    "\n",
    "x = [1995,1996,1997,1998,1999,2000,2001,2002,2003,2004,2005,2006,2007,2008,2009,2010,2011,2012,2013,\n",
    "        2014,2015,2016,2017,2018,2019,2020]\n",
    "\n",
    "y = costarica1[\"Gradoscelsius\"].tolist()\n",
    "\n",
    "fig, ax = plt.subplots()\n",
    "ax.plot(x, y)\n",
    "\n",
    "ax.set(xlabel='Años', ylabel='Gradoscelsius',\n",
    "       title='Temperatura promedio en Gradoscelsius por año en Costa Rica')\n",
    "ax.grid()\n",
    "\n",
    "plt.xticks (x) # Sirve para colocar todos los valores del eje x\n",
    "fig.set_figheight(6) # Sirve para cambiar el alto de la figura\n",
    "fig.set_figwidth(15) # Sirve para cambiar el ancho de la figura\n",
    "\n",
    "fig.savefig(\"test.png\")\n",
    "plt.show()"
   ]
  },
  {
   "cell_type": "code",
   "execution_count": 54,
   "id": "0cc805b0",
   "metadata": {},
   "outputs": [
    {
     "data": {
      "text/plain": [
       "Month                6.540984\n",
       "Day                 15.759563\n",
       "Year              2020.000000\n",
       "AvgTemperature      74.939552\n",
       "Gradoscelsius       23.855307\n",
       "dtype: float64"
      ]
     },
     "execution_count": 54,
     "metadata": {},
     "output_type": "execute_result"
    }
   ],
   "source": [
    "maximo=costarica1.max()\n",
    "maximo"
   ]
  },
  {
   "cell_type": "code",
   "execution_count": 55,
   "id": "be65c99b",
   "metadata": {},
   "outputs": [
    {
     "data": {
      "text/plain": [
       "Month                2.738806\n",
       "Day                 14.798507\n",
       "Year              1995.000000\n",
       "AvgTemperature      70.177808\n",
       "Gradoscelsius       21.209893\n",
       "dtype: float64"
      ]
     },
     "execution_count": 55,
     "metadata": {},
     "output_type": "execute_result"
    }
   ],
   "source": [
    "minimo=costarica1.min()\n",
    "minimo"
   ]
  },
  {
   "cell_type": "code",
   "execution_count": 56,
   "id": "62907c82",
   "metadata": {},
   "outputs": [
    {
     "data": {
      "text/plain": [
       "Month                6.378087\n",
       "Day                 15.694958\n",
       "Year              2007.500000\n",
       "AvgTemperature      72.706513\n",
       "Gradoscelsius       22.614730\n",
       "dtype: float64"
      ]
     },
     "execution_count": 56,
     "metadata": {},
     "output_type": "execute_result"
    }
   ],
   "source": [
    "costarica1.mean()"
   ]
  },
  {
   "cell_type": "markdown",
   "id": "f0dcdcf8",
   "metadata": {},
   "source": [
    "<P><i><big> Con la informacion anterior se determina que la temperatura <u> minima </u> en CR se presento en el año <b>1995</b> con <b>21.20 grados celsius</b>, la <u>mayor</u> temperatura registrada fue en el año <b>2020</b> con <b> 23.85 grados celsius</b>.Y la temperatura <u> promedio </u> del pais es de <b>22.61 grados celsius</b>. </i></big></p>"
   ]
  },
  {
   "cell_type": "markdown",
   "id": "fcbc6b68",
   "metadata": {},
   "source": [
    "<h3 style=\"color:#C70039\"> Existe un aumento en la temperatura en CR en los ultimos años? </h3>"
   ]
  },
  {
   "cell_type": "code",
   "execution_count": 57,
   "id": "4ed798bf",
   "metadata": {},
   "outputs": [
    {
     "data": {
      "text/plain": [
       "2.645413344237742"
      ]
     },
     "execution_count": 57,
     "metadata": {},
     "output_type": "execute_result"
    }
   ],
   "source": [
    "diferenciaporcentual=maximo[\"Gradoscelsius\"]-minimo[\"Gradoscelsius\"]\n",
    "diferenciaporcentual"
   ]
  },
  {
   "cell_type": "markdown",
   "id": "526d1392",
   "metadata": {},
   "source": [
    "<p><i><big> Si, comparando la temperatura del año 1995 y la temperatura del año 2020, se observa un aumento de <b>2.6</b> grados celsius en la temperatura del pais.</i></big></p>"
   ]
  },
  {
   "cell_type": "markdown",
   "id": "a45af05c",
   "metadata": {},
   "source": [
    "<h3 style=\"color:#C70039\"> Cual ha sido el mes de mayor temperatura en Costa Rica ? </h3>"
   ]
  },
  {
   "cell_type": "code",
   "execution_count": 59,
   "id": "2a13ab55",
   "metadata": {},
   "outputs": [
    {
     "data": {
      "text/html": [
       "<div>\n",
       "<style scoped>\n",
       "    .dataframe tbody tr th:only-of-type {\n",
       "        vertical-align: middle;\n",
       "    }\n",
       "\n",
       "    .dataframe tbody tr th {\n",
       "        vertical-align: top;\n",
       "    }\n",
       "\n",
       "    .dataframe thead th {\n",
       "        text-align: right;\n",
       "    }\n",
       "</style>\n",
       "<table border=\"1\" class=\"dataframe\">\n",
       "  <thead>\n",
       "    <tr style=\"text-align: right;\">\n",
       "      <th></th>\n",
       "      <th>Region</th>\n",
       "      <th>Country</th>\n",
       "      <th>State</th>\n",
       "      <th>City</th>\n",
       "      <th>Month</th>\n",
       "      <th>Day</th>\n",
       "      <th>Year</th>\n",
       "      <th>AvgTemperature</th>\n",
       "      <th>Gradoscelsius</th>\n",
       "    </tr>\n",
       "  </thead>\n",
       "  <tbody>\n",
       "    <tr>\n",
       "      <th>1319838</th>\n",
       "      <td>South/Central America &amp; Carribean</td>\n",
       "      <td>Costa Rica</td>\n",
       "      <td>Texas</td>\n",
       "      <td>San Jose</td>\n",
       "      <td>1</td>\n",
       "      <td>1</td>\n",
       "      <td>1995</td>\n",
       "      <td>72.9</td>\n",
       "      <td>22.722222</td>\n",
       "    </tr>\n",
       "    <tr>\n",
       "      <th>1319839</th>\n",
       "      <td>South/Central America &amp; Carribean</td>\n",
       "      <td>Costa Rica</td>\n",
       "      <td>Texas</td>\n",
       "      <td>San Jose</td>\n",
       "      <td>1</td>\n",
       "      <td>2</td>\n",
       "      <td>1995</td>\n",
       "      <td>72.0</td>\n",
       "      <td>22.222222</td>\n",
       "    </tr>\n",
       "    <tr>\n",
       "      <th>1319840</th>\n",
       "      <td>South/Central America &amp; Carribean</td>\n",
       "      <td>Costa Rica</td>\n",
       "      <td>Texas</td>\n",
       "      <td>San Jose</td>\n",
       "      <td>1</td>\n",
       "      <td>3</td>\n",
       "      <td>1995</td>\n",
       "      <td>74.3</td>\n",
       "      <td>23.500000</td>\n",
       "    </tr>\n",
       "    <tr>\n",
       "      <th>1319841</th>\n",
       "      <td>South/Central America &amp; Carribean</td>\n",
       "      <td>Costa Rica</td>\n",
       "      <td>Texas</td>\n",
       "      <td>San Jose</td>\n",
       "      <td>1</td>\n",
       "      <td>4</td>\n",
       "      <td>1995</td>\n",
       "      <td>71.5</td>\n",
       "      <td>21.944444</td>\n",
       "    </tr>\n",
       "    <tr>\n",
       "      <th>1319842</th>\n",
       "      <td>South/Central America &amp; Carribean</td>\n",
       "      <td>Costa Rica</td>\n",
       "      <td>Texas</td>\n",
       "      <td>San Jose</td>\n",
       "      <td>1</td>\n",
       "      <td>5</td>\n",
       "      <td>1995</td>\n",
       "      <td>72.8</td>\n",
       "      <td>22.666667</td>\n",
       "    </tr>\n",
       "  </tbody>\n",
       "</table>\n",
       "</div>"
      ],
      "text/plain": [
       "                                    Region     Country  State      City  \\\n",
       "1319838  South/Central America & Carribean  Costa Rica  Texas  San Jose   \n",
       "1319839  South/Central America & Carribean  Costa Rica  Texas  San Jose   \n",
       "1319840  South/Central America & Carribean  Costa Rica  Texas  San Jose   \n",
       "1319841  South/Central America & Carribean  Costa Rica  Texas  San Jose   \n",
       "1319842  South/Central America & Carribean  Costa Rica  Texas  San Jose   \n",
       "\n",
       "         Month  Day  Year  AvgTemperature  Gradoscelsius  \n",
       "1319838      1    1  1995            72.9      22.722222  \n",
       "1319839      1    2  1995            72.0      22.222222  \n",
       "1319840      1    3  1995            74.3      23.500000  \n",
       "1319841      1    4  1995            71.5      21.944444  \n",
       "1319842      1    5  1995            72.8      22.666667  "
      ]
     },
     "execution_count": 59,
     "metadata": {},
     "output_type": "execute_result"
    }
   ],
   "source": [
    "costarica.head()"
   ]
  },
  {
   "cell_type": "code",
   "execution_count": 76,
   "id": "7697f113",
   "metadata": {},
   "outputs": [
    {
     "data": {
      "text/html": [
       "<div>\n",
       "<style scoped>\n",
       "    .dataframe tbody tr th:only-of-type {\n",
       "        vertical-align: middle;\n",
       "    }\n",
       "\n",
       "    .dataframe tbody tr th {\n",
       "        vertical-align: top;\n",
       "    }\n",
       "\n",
       "    .dataframe thead th {\n",
       "        text-align: right;\n",
       "    }\n",
       "</style>\n",
       "<table border=\"1\" class=\"dataframe\">\n",
       "  <thead>\n",
       "    <tr style=\"text-align: right;\">\n",
       "      <th>Month</th>\n",
       "      <th>1</th>\n",
       "      <th>2</th>\n",
       "      <th>3</th>\n",
       "      <th>4</th>\n",
       "      <th>5</th>\n",
       "      <th>6</th>\n",
       "      <th>7</th>\n",
       "      <th>8</th>\n",
       "      <th>9</th>\n",
       "      <th>10</th>\n",
       "      <th>11</th>\n",
       "      <th>12</th>\n",
       "    </tr>\n",
       "    <tr>\n",
       "      <th>Year</th>\n",
       "      <th></th>\n",
       "      <th></th>\n",
       "      <th></th>\n",
       "      <th></th>\n",
       "      <th></th>\n",
       "      <th></th>\n",
       "      <th></th>\n",
       "      <th></th>\n",
       "      <th></th>\n",
       "      <th></th>\n",
       "      <th></th>\n",
       "      <th></th>\n",
       "    </tr>\n",
       "  </thead>\n",
       "  <tbody>\n",
       "    <tr>\n",
       "      <th>(1995, 2000]</th>\n",
       "      <td>22.245520</td>\n",
       "      <td>22.929969</td>\n",
       "      <td>23.239427</td>\n",
       "      <td>23.706667</td>\n",
       "      <td>22.445161</td>\n",
       "      <td>22.355926</td>\n",
       "      <td>22.709319</td>\n",
       "      <td>22.485663</td>\n",
       "      <td>21.572963</td>\n",
       "      <td>21.693548</td>\n",
       "      <td>21.700741</td>\n",
       "      <td>22.075627</td>\n",
       "    </tr>\n",
       "    <tr>\n",
       "      <th>(2000, 2010]</th>\n",
       "      <td>22.728136</td>\n",
       "      <td>23.067967</td>\n",
       "      <td>23.537814</td>\n",
       "      <td>23.865926</td>\n",
       "      <td>22.943728</td>\n",
       "      <td>22.463704</td>\n",
       "      <td>22.638889</td>\n",
       "      <td>22.447670</td>\n",
       "      <td>21.925556</td>\n",
       "      <td>21.804301</td>\n",
       "      <td>21.929259</td>\n",
       "      <td>22.421685</td>\n",
       "    </tr>\n",
       "    <tr>\n",
       "      <th>(2010, 2020]</th>\n",
       "      <td>22.714337</td>\n",
       "      <td>23.063801</td>\n",
       "      <td>23.526523</td>\n",
       "      <td>23.741852</td>\n",
       "      <td>22.900685</td>\n",
       "      <td>22.813374</td>\n",
       "      <td>22.913779</td>\n",
       "      <td>22.643170</td>\n",
       "      <td>22.102058</td>\n",
       "      <td>21.702509</td>\n",
       "      <td>22.036008</td>\n",
       "      <td>22.600595</td>\n",
       "    </tr>\n",
       "  </tbody>\n",
       "</table>\n",
       "</div>"
      ],
      "text/plain": [
       "Month                1          2          3          4          5   \\\n",
       "Year                                                                  \n",
       "(1995, 2000]  22.245520  22.929969  23.239427  23.706667  22.445161   \n",
       "(2000, 2010]  22.728136  23.067967  23.537814  23.865926  22.943728   \n",
       "(2010, 2020]  22.714337  23.063801  23.526523  23.741852  22.900685   \n",
       "\n",
       "Month                6          7          8          9          10  \\\n",
       "Year                                                                  \n",
       "(1995, 2000]  22.355926  22.709319  22.485663  21.572963  21.693548   \n",
       "(2000, 2010]  22.463704  22.638889  22.447670  21.925556  21.804301   \n",
       "(2010, 2020]  22.813374  22.913779  22.643170  22.102058  21.702509   \n",
       "\n",
       "Month                11         12  \n",
       "Year                                \n",
       "(1995, 2000]  21.700741  22.075627  \n",
       "(2000, 2010]  21.929259  22.421685  \n",
       "(2010, 2020]  22.036008  22.600595  "
      ]
     },
     "execution_count": 76,
     "metadata": {},
     "output_type": "execute_result"
    }
   ],
   "source": [
    "year=pd.cut(costarica[\"Year\"],[1995,2000,2010,2020])\n",
    "mes=costarica.pivot_table(\"Gradoscelsius\",[year],\"Month\")\n",
    "mes"
   ]
  },
  {
   "cell_type": "code",
   "execution_count": 87,
   "id": "917351dc",
   "metadata": {},
   "outputs": [
    {
     "data": {
      "text/plain": [
       "Month\n",
       "1     22.728136\n",
       "2     23.067967\n",
       "3     23.537814\n",
       "4     23.865926\n",
       "5     22.943728\n",
       "6     22.813374\n",
       "7     22.913779\n",
       "8     22.643170\n",
       "9     22.102058\n",
       "10    21.804301\n",
       "11    22.036008\n",
       "12    22.600595\n",
       "dtype: float64"
      ]
     },
     "execution_count": 87,
     "metadata": {},
     "output_type": "execute_result"
    }
   ],
   "source": [
    "mesmaximo=mes.max(axis = 0)\n",
    "mesmaximo"
   ]
  },
  {
   "cell_type": "code",
   "execution_count": 96,
   "id": "4e8c663d",
   "metadata": {},
   "outputs": [
    {
     "data": {
      "text/plain": [
       "23.86592592592592"
      ]
     },
     "execution_count": 96,
     "metadata": {},
     "output_type": "execute_result"
    }
   ],
   "source": [
    "mesmaximo.max()"
   ]
  },
  {
   "cell_type": "code",
   "execution_count": 117,
   "id": "22094e0f",
   "metadata": {},
   "outputs": [
    {
     "data": {
      "image/png": "[encoded data removed]",
      "text/plain": [
       "<Figure size 432x288 with 1 Axes>"
      ]
     },
     "metadata": {
      "needs_background": "light"
     },
     "output_type": "display_data"
    },
    {
     "data": {
      "text/plain": [
       "<Figure size 720x1080 with 0 Axes>"
      ]
     },
     "metadata": {},
     "output_type": "display_data"
    }
   ],
   "source": [
    "import matplotlib.pyplot as plt\n",
    "\n",
    "eje_x = (1,2,3,4,5,6,7,8,9,10,11,12)\n",
    "eje_y = mes.max(axis = 0)\n",
    "\n",
    "#Creamos el grafico de barras\n",
    "plt.bar(eje_x, eje_y)\n",
    "\n",
    "#Colocamos una etiqueta en el eje Y\n",
    "plt.ylabel(\"Grados celsius\")\n",
    "#Colocamos una etiqueta en el eje X\n",
    "plt.xlabel(\"Meses\")\n",
    "#Colocamos el titulo del grafico\n",
    "plt.title('Grados celsius en CR por mes')\n",
    "\n",
    "#definir tamano del grafico\n",
    "plt.figure(figsize=(10,15))\n",
    "\n",
    "#Finalmente mostramos la grafica con el metodo show()\n",
    "plt.show()"
   ]
  },
  {
   "cell_type": "markdown",
   "id": "319752ba",
   "metadata": {},
   "source": [
    "<p><i><big> El mes de mayor temperatura registrada en Costa Rica fue en el mes de abril con 23.86 grados celsius.</i></big></p>"
   ]
  },
  {
   "cell_type": "markdown",
   "id": "0b20598b",
   "metadata": {},
   "source": [
    "<h3 style=\"color:#C70039\"> Cual es la relacion entre grados celsius y fahrenheit en Costa Rica ? </h3>"
   ]
  },
  {
   "cell_type": "code",
   "execution_count": 58,
   "id": "11a46d72",
   "metadata": {},
   "outputs": [
    {
     "data": {
      "image/png": "[encoded data removed]",
      "text/plain": [
       "<Figure size 432x288 with 1 Axes>"
      ]
     },
     "metadata": {
      "needs_background": "light"
     },
     "output_type": "display_data"
    }
   ],
   "source": [
    "import numpy as np\n",
    "import matplotlib.pyplot as plt\n",
    "\n",
    "\n",
    "X =[1995,1996,1997,1998,1999,2000,2001,2002,2003,2004,2005,2006,2007,2008,2009,2010,2011,2012,2013,\n",
    "        2014,2015,2016,2017,2018,2019,2020]\n",
    "\n",
    "xs = costarica1[\"Gradoscelsius\"].tolist()\n",
    "ys = costarica1[\"AvgTemperature\"].tolist()\n",
    "\n",
    "fig, ax = plt.subplots()\n",
    "ax.set_title('Relacion grados celisus y fahrenheit en Costa Rica')\n",
    "ax.set(xlabel='Grados Celsius', ylabel='Grados Fahrenheit')\n",
    "       \n",
    "line, = ax.plot(xs, ys, 'o', picker=True, pickradius=5)\n",
    "\n",
    "\n",
    "def onpick(event):\n",
    "\n",
    "    if event.artist != line:\n",
    "        return True\n",
    "\n",
    "    N = len(event.ind)\n",
    "    if not N:\n",
    "        return True\n",
    "\n",
    "    figi, axs = plt.subplots(N, squeeze=False)\n",
    "    for ax, dataind in zip(axs.flat, event.ind):\n",
    "        ax.plot(X[dataind])\n",
    "        ax.text(.05, .9, 'mu=%1.3f\\nsigma=%1.3f' % (xs[dataind], ys[dataind]),\n",
    "                transform=ax.transAxes, va='top')\n",
    "        ax.set_ylim(-0.5, 1.5)\n",
    "    figi.show()\n",
    "    return True\n",
    "\n",
    "fig.canvas.mpl_connect('pick_event', onpick)\n",
    "\n",
    "plt.show()"
   ]
  },
  {
   "cell_type": "markdown",
   "id": "ce08cb04",
   "metadata": {},
   "source": [
    "<p><i><big> La relacion de grados Fahrenheit y grados Celisus, radica en que mayor son los grados Farenheit, mayores serán los grados Celisus.A mayor grados en el eje y, la temperatura será más elevada, es decir, más caliente. Y conforme desciende los grados en el eje, más baja sera la temperatura, es decir más frio.</i></big></p>"
   ]
  }
 ],
 "metadata": {
  "kernelspec": {
   "display_name": "Python 3",
   "language": "python",
   "name": "python3"
  },
  "language_info": {
   "codemirror_mode": {
    "name": "ipython",
    "version": 3
   },
   "file_extension": ".py",
   "mimetype": "text/x-python",
   "name": "python",
   "nbconvert_exporter": "python",
   "pygments_lexer": "ipython3",
   "version": "3.8.8"
  }
 },
 "nbformat": 4,
 "nbformat_minor": 5
}
